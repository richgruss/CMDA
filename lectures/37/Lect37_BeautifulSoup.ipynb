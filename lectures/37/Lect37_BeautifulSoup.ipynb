{
 "metadata": {
  "name": "",
  "signature": "sha256:0d57f9ac118c19c9189a202c95a89d6774f3e9b77049c9bdaf75c1cd75fa30a4"
 },
 "nbformat": 3,
 "nbformat_minor": 0,
 "worksheets": [
  {
   "cells": [
    {
     "cell_type": "heading",
     "level": 1,
     "metadata": {},
     "source": [
      "Web Scraping with Beautiful Soup module in Pyhton"
     ]
    },
    {
     "cell_type": "code",
     "collapsed": false,
     "input": [
      "#install module; ipython and Canopy let us do it here using pip"
     ],
     "language": "python",
     "metadata": {},
     "outputs": [],
     "prompt_number": 1
    },
    {
     "cell_type": "code",
     "collapsed": false,
     "input": [
      "!pip install beautifulsoup4"
     ],
     "language": "python",
     "metadata": {},
     "outputs": [
      {
       "output_type": "stream",
       "stream": "stdout",
       "text": [
        "Downloading/unpacking beautifulsoup4\r\n"
       ]
      },
      {
       "output_type": "stream",
       "stream": "stdout",
       "text": [
        "  Downloading beautifulsoup4-4.3.2.tar.gz (143kB): \r",
        "  Downloading beautifulsoup4-4.3.2.tar.gz (143kB):   2%  4.1kB\r",
        "  Downloading beautifulsoup4-4.3.2.tar.gz (143kB):   5%  8.2kB\r",
        "  Downloading beautifulsoup4-4.3.2.tar.gz (143kB):   8%  12kB \r",
        "  Downloading beautifulsoup4-4.3.2.tar.gz (143kB):  11%  16kB\r",
        "  Downloading beautifulsoup4-4.3.2.tar.gz (143kB):  14%  20kB\r",
        "  Downloading beautifulsoup4-4.3.2.tar.gz (143kB):  17%  24kB\r",
        "  Downloading beautifulsoup4-4.3.2.tar.gz (143kB):  20%  28kB\r",
        "  Downloading beautifulsoup4-4.3.2.tar.gz (143kB):  22%  32kB\r",
        "  Downloading beautifulsoup4-4.3.2.tar.gz (143kB):  25%  36kB"
       ]
      },
      {
       "output_type": "stream",
       "stream": "stdout",
       "text": [
        "\r",
        "  Downloading beautifulsoup4-4.3.2.tar.gz (143kB):  28%  40kB\r",
        "  Downloading beautifulsoup4-4.3.2.tar.gz (143kB):  31%  45kB\r",
        "  Downloading beautifulsoup4-4.3.2.tar.gz (143kB):  34%  49kB\r",
        "  Downloading beautifulsoup4-4.3.2.tar.gz (143kB):  37%  53kB\r",
        "  Downloading beautifulsoup4-4.3.2.tar.gz (143kB):  40%  57kB\r",
        "  Downloading beautifulsoup4-4.3.2.tar.gz (143kB):  42%  61kB\r",
        "  Downloading beautifulsoup4-4.3.2.tar.gz (143kB):  45%  65kB\r",
        "  Downloading beautifulsoup4-4.3.2.tar.gz (143kB):  48%  69kB\r",
        "  Downloading beautifulsoup4-4.3.2.tar.gz (143kB):  51%  73kB\r",
        "  Downloading beautifulsoup4-4.3.2.tar.gz (143kB):  54%  77kB\r",
        "  Downloading beautifulsoup4-4.3.2.tar.gz (143kB):  57%  81kB\r",
        "  Downloading beautifulsoup4-4.3.2.tar.gz (143kB):  60%  86kB\r",
        "  Downloading beautifulsoup4-4.3.2.tar.gz (143kB):  62%  90kB\r",
        "  Downloading beautifulsoup4-4.3.2.tar.gz (143kB):  65%  94kB\r",
        "  Downloading beautifulsoup4-4.3.2.tar.gz (143kB):  68%  98kB\r",
        "  Downloading beautifulsoup4-4.3.2.tar.gz (143kB):  71%  102kB\r",
        "  Downloading beautifulsoup4-4.3.2.tar.gz (143kB):  74%  106kB\r",
        "  Downloading beautifulsoup4-4.3.2.tar.gz (143kB):  77%  110kB\r",
        "  Downloading beautifulsoup4-4.3.2.tar.gz (143kB):  80%  114kB\r",
        "  Downloading beautifulsoup4-4.3.2.tar.gz (143kB):  82%  118kB\r",
        "  Downloading beautifulsoup4-4.3.2.tar.gz (143kB):  85%  122kB\r",
        "  Downloading beautifulsoup4-4.3.2.tar.gz (143kB):  88%  126kB\r",
        "  Downloading beautifulsoup4-4.3.2.tar.gz (143kB):  91%  131kB\r",
        "  Downloading beautifulsoup4-4.3.2.tar.gz (143kB):  94%  135kB\r",
        "  Downloading beautifulsoup4-4.3.2.tar.gz (143kB):  97%  139kB\r",
        "  Downloading beautifulsoup4-4.3.2.tar.gz (143kB): 100%  143kB\r",
        "  Downloading beautifulsoup4-4.3.2.tar.gz (143kB):            \r",
        "  Downloading beautifulsoup4-4.3.2.tar.gz (143kB): 143kB downloaded\r\n"
       ]
      },
      {
       "output_type": "stream",
       "stream": "stdout",
       "text": [
        "  Running setup.py (path:/private/var/folders/yq/vt9j7z0s57x_tn0p9_jjyx900000gp/T/pip_build_rgruss/beautifulsoup4/setup.py) egg_info for package beautifulsoup4\r\n"
       ]
      },
      {
       "output_type": "stream",
       "stream": "stdout",
       "text": [
        "    \r\n"
       ]
      },
      {
       "output_type": "stream",
       "stream": "stdout",
       "text": [
        "Installing collected packages: beautifulsoup4\r\n",
        "  Running setup.py install for beautifulsoup4\r\n"
       ]
      },
      {
       "output_type": "stream",
       "stream": "stdout",
       "text": [
        "    error: could not create '/Library/Python/2.7/site-packages/bs4': Permission denied\r\n",
        "    Complete output from command /usr/bin/python -c \"import setuptools, tokenize;__file__='/private/var/folders/yq/vt9j7z0s57x_tn0p9_jjyx900000gp/T/pip_build_rgruss/beautifulsoup4/setup.py';exec(compile(getattr(tokenize, 'open', open)(__file__).read().replace('\\r\\n', '\\n'), __file__, 'exec'))\" install --record /var/folders/yq/vt9j7z0s57x_tn0p9_jjyx900000gp/T/pip-utH9lE-record/install-record.txt --single-version-externally-managed --compile:\r\n",
        "    running install\r\n",
        "\r\n",
        "running build\r\n",
        "\r\n",
        "running build_py\r\n",
        "\r\n",
        "creating build\r\n",
        "\r\n",
        "creating build/lib\r\n",
        "\r\n",
        "creating build/lib/bs4\r\n",
        "\r\n",
        "copying bs4/__init__.py -> build/lib/bs4\r\n",
        "\r\n",
        "copying bs4/dammit.py -> build/lib/bs4\r\n",
        "\r\n",
        "copying bs4/diagnose.py -> build/lib/bs4\r\n",
        "\r\n",
        "copying bs4/element.py -> build/lib/bs4\r\n",
        "\r\n",
        "copying bs4/testing.py -> build/lib/bs4\r\n",
        "\r\n",
        "creating build/lib/bs4/builder\r\n",
        "\r\n",
        "copying bs4/builder/__init__.py -> build/lib/bs4/builder\r\n",
        "\r\n",
        "copying bs4/builder/_html5lib.py -> build/lib/bs4/builder\r\n",
        "\r\n",
        "copying bs4/builder/_htmlparser.py -> build/lib/bs4/builder\r\n",
        "\r\n",
        "copying bs4/builder/_lxml.py -> build/lib/bs4/builder\r\n",
        "\r\n",
        "creating build/lib/bs4/tests\r\n",
        "\r\n",
        "copying bs4/tests/__init__.py -> build/lib/bs4/tests\r\n",
        "\r\n",
        "copying bs4/tests/test_builder_registry.py -> build/lib/bs4/tests\r\n",
        "\r\n",
        "copying bs4/tests/test_docs.py -> build/lib/bs4/tests\r\n",
        "\r\n",
        "copying bs4/tests/test_html5lib.py -> build/lib/bs4/tests\r\n",
        "\r\n",
        "copying bs4/tests/test_htmlparser.py -> build/lib/bs4/tests\r\n",
        "\r\n",
        "copying bs4/tests/test_lxml.py -> build/lib/bs4/tests\r\n",
        "\r\n",
        "copying bs4/tests/test_soup.py -> build/lib/bs4/tests\r\n",
        "\r\n",
        "copying bs4/tests/test_tree.py -> build/lib/bs4/tests\r\n",
        "\r\n",
        "running install_lib\r\n",
        "\r\n",
        "creating /Library/Python/2.7/site-packages/bs4\r\n",
        "\r\n",
        "error: could not create '/Library/Python/2.7/site-packages/bs4': Permission denied\r\n",
        "\r\n",
        "----------------------------------------\r\n",
        "Cleaning up...\r\n",
        "\u001b[31mCommand /usr/bin/python -c \"import setuptools, tokenize;__file__='/private/var/folders/yq/vt9j7z0s57x_tn0p9_jjyx900000gp/T/pip_build_rgruss/beautifulsoup4/setup.py';exec(compile(getattr(tokenize, 'open', open)(__file__).read().replace('\\r\\n', '\\n'), __file__, 'exec'))\" install --record /var/folders/yq/vt9j7z0s57x_tn0p9_jjyx900000gp/T/pip-utH9lE-record/install-record.txt --single-version-externally-managed --compile failed with error code 1 in /private/var/folders/yq/vt9j7z0s57x_tn0p9_jjyx900000gp/T/pip_build_rgruss/beautifulsoup4\r\n",
        "\u001b[0m\u001b[31mStoring debug log for failure in /var/folders/yq/vt9j7z0s57x_tn0p9_jjyx900000gp/T/tmp4rhEx1\r\n",
        "\u001b[0m"
       ]
      }
     ],
     "prompt_number": 1
    },
    {
     "cell_type": "code",
     "collapsed": false,
     "input": [
      "#load a specific function from the module; shorten name"
     ],
     "language": "python",
     "metadata": {},
     "outputs": [],
     "prompt_number": 2
    },
    {
     "cell_type": "code",
     "collapsed": false,
     "input": [
      "from bs4 import BeautifulSoup as bs"
     ],
     "language": "python",
     "metadata": {},
     "outputs": [],
     "prompt_number": 3
    },
    {
     "cell_type": "code",
     "collapsed": false,
     "input": [
      "#create an html object to work with using Beautiful Soup\n",
      "#when using a site on web, we need to open the location and get the html object with a library such as requests"
     ],
     "language": "python",
     "metadata": {},
     "outputs": [],
     "prompt_number": 4
    },
    {
     "cell_type": "code",
     "collapsed": false,
     "input": [
      "html_doc = \"\"\"\n",
      "<html><head><title>The Dormouse's story</title></head>\n",
      "<body>\n",
      "<p class=\"title\"><b>The Dormouse's story</b></p>\n",
      "\n",
      "<p class=\"story\">Once upon a time there were three little sisters; and their names were\n",
      "<a href=\"http://example.com/elsie\" class=\"sister\" id=\"link1\">Elsie</a>,\n",
      "<a href=\"http://example.com/lacie\" class=\"sister\" id=\"link2\">Lacie</a> and\n",
      "<a href=\"http://example.com/tillie\" class=\"sister\" id=\"link3\">Tillie</a>;\n",
      "and they lived at the bottom of a well.</p>\n",
      "\n",
      "<p class=\"story\">...</p>\n",
      "\"\"\""
     ],
     "language": "python",
     "metadata": {},
     "outputs": [],
     "prompt_number": 5
    },
    {
     "cell_type": "code",
     "collapsed": false,
     "input": [
      "#create the beautiful soup object from the html object"
     ],
     "language": "python",
     "metadata": {},
     "outputs": [],
     "prompt_number": 6
    },
    {
     "cell_type": "code",
     "collapsed": false,
     "input": [
      "soup = bs(html_doc)"
     ],
     "language": "python",
     "metadata": {},
     "outputs": [],
     "prompt_number": 7
    },
    {
     "cell_type": "code",
     "collapsed": false,
     "input": [
      "#display the object as a tree to see how all parts of the info are related"
     ],
     "language": "python",
     "metadata": {},
     "outputs": [],
     "prompt_number": 8
    },
    {
     "cell_type": "code",
     "collapsed": false,
     "input": [
      "print(soup.prettify())"
     ],
     "language": "python",
     "metadata": {},
     "outputs": [
      {
       "output_type": "stream",
       "stream": "stdout",
       "text": [
        "<html>\n",
        " <head>\n",
        "  <title>\n",
        "   The Dormouse's story\n",
        "  </title>\n",
        " </head>\n",
        " <body>\n",
        "  <p class=\"title\">\n",
        "   <b>\n",
        "    The Dormouse's story\n",
        "   </b>\n",
        "  </p>\n",
        "  <p class=\"story\">\n",
        "   Once upon a time there were three little sisters; and their names were\n",
        "   <a class=\"sister\" href=\"http://example.com/elsie\" id=\"link1\">\n",
        "    Elsie\n",
        "   </a>\n",
        "   ,\n",
        "   <a class=\"sister\" href=\"http://example.com/lacie\" id=\"link2\">\n",
        "    Lacie\n",
        "   </a>\n",
        "   and\n",
        "   <a class=\"sister\" href=\"http://example.com/tillie\" id=\"link3\">\n",
        "    Tillie\n",
        "   </a>\n",
        "   ;\n",
        "and they lived at the bottom of a well.\n",
        "  </p>\n",
        "  <p class=\"story\">\n",
        "   ...\n",
        "  </p>\n",
        " </body>\n",
        "</html>\n"
       ]
      }
     ],
     "prompt_number": 9
    },
    {
     "cell_type": "code",
     "collapsed": false,
     "input": [
      "#extract and display some tags of the soup object"
     ],
     "language": "python",
     "metadata": {},
     "outputs": [],
     "prompt_number": 7
    },
    {
     "cell_type": "code",
     "collapsed": false,
     "input": [
      "soup.title"
     ],
     "language": "python",
     "metadata": {},
     "outputs": [
      {
       "metadata": {},
       "output_type": "pyout",
       "prompt_number": 10,
       "text": [
        "<title>The Dormouse's story</title>"
       ]
      }
     ],
     "prompt_number": 10
    },
    {
     "cell_type": "code",
     "collapsed": false,
     "input": [
      "soup.body"
     ],
     "language": "python",
     "metadata": {},
     "outputs": [
      {
       "metadata": {},
       "output_type": "pyout",
       "prompt_number": 11,
       "text": [
        "<body>\n",
        "<p class=\"title\"><b>The Dormouse's story</b></p>\n",
        "<p class=\"story\">Once upon a time there were three little sisters; and their names were\n",
        "<a class=\"sister\" href=\"http://example.com/elsie\" id=\"link1\">Elsie</a>,\n",
        "<a class=\"sister\" href=\"http://example.com/lacie\" id=\"link2\">Lacie</a> and\n",
        "<a class=\"sister\" href=\"http://example.com/tillie\" id=\"link3\">Tillie</a>;\n",
        "and they lived at the bottom of a well.</p>\n",
        "<p class=\"story\">...</p>\n",
        "</body>"
       ]
      }
     ],
     "prompt_number": 11
    },
    {
     "cell_type": "code",
     "collapsed": false,
     "input": [
      "#display the first encounter of a tag\n",
      "#when we refer to the tag as attribute, like this, by soup.a, only the first shows up"
     ],
     "language": "python",
     "metadata": {},
     "outputs": [],
     "prompt_number": 8
    },
    {
     "cell_type": "code",
     "collapsed": false,
     "input": [
      "soup.a"
     ],
     "language": "python",
     "metadata": {},
     "outputs": [
      {
       "metadata": {},
       "output_type": "pyout",
       "prompt_number": 12,
       "text": [
        "<a class=\"sister\" href=\"http://example.com/elsie\" id=\"link1\">Elsie</a>"
       ]
      }
     ],
     "prompt_number": 12
    },
    {
     "cell_type": "code",
     "collapsed": false,
     "input": [
      "#find all tag a"
     ],
     "language": "python",
     "metadata": {},
     "outputs": [],
     "prompt_number": 9
    },
    {
     "cell_type": "code",
     "collapsed": false,
     "input": [
      "soup.a"
     ],
     "language": "python",
     "metadata": {},
     "outputs": [
      {
       "metadata": {},
       "output_type": "pyout",
       "prompt_number": 13,
       "text": [
        "<a class=\"sister\" href=\"http://example.com/elsie\" id=\"link1\">Elsie</a>"
       ]
      }
     ],
     "prompt_number": 13
    },
    {
     "cell_type": "code",
     "collapsed": false,
     "input": [
      "soup.find_all(\"a\")[1]"
     ],
     "language": "python",
     "metadata": {},
     "outputs": [
      {
       "metadata": {},
       "output_type": "pyout",
       "prompt_number": 22,
       "text": [
        "<a class=\"sister\" href=\"http://example.com/lacie\" id=\"link2\">Lacie</a>"
       ]
      }
     ],
     "prompt_number": 22
    },
    {
     "cell_type": "code",
     "collapsed": false,
     "input": [
      "#find all childrens of a tag\n",
      "#.contents returns a list of children"
     ],
     "language": "python",
     "metadata": {},
     "outputs": [],
     "prompt_number": 15
    },
    {
     "cell_type": "code",
     "collapsed": false,
     "input": [
      "soup.body.contents"
     ],
     "language": "python",
     "metadata": {},
     "outputs": [
      {
       "metadata": {},
       "output_type": "pyout",
       "prompt_number": 23,
       "text": [
        "[u'\\n',\n",
        " <p class=\"title\"><b>The Dormouse's story</b></p>,\n",
        " u'\\n',\n",
        " <p class=\"story\">Once upon a time there were three little sisters; and their names were\n",
        " <a class=\"sister\" href=\"http://example.com/elsie\" id=\"link1\">Elsie</a>,\n",
        " <a class=\"sister\" href=\"http://example.com/lacie\" id=\"link2\">Lacie</a> and\n",
        " <a class=\"sister\" href=\"http://example.com/tillie\" id=\"link3\">Tillie</a>;\n",
        " and they lived at the bottom of a well.</p>,\n",
        " u'\\n',\n",
        " <p class=\"story\">...</p>,\n",
        " u'\\n']"
       ]
      }
     ],
     "prompt_number": 23
    },
    {
     "cell_type": "code",
     "collapsed": false,
     "input": [
      "#at the bottom of the tree there are no more children; children of children are called descendents\n",
      "#at the bottom of the tree there is perhaps just text\n",
      "#get strings from tree"
     ],
     "language": "python",
     "metadata": {},
     "outputs": [],
     "prompt_number": 11
    },
    {
     "cell_type": "code",
     "collapsed": false,
     "input": [
      "[s for s in soup.stripped_strings]"
     ],
     "language": "python",
     "metadata": {},
     "outputs": [
      {
       "metadata": {},
       "output_type": "pyout",
       "prompt_number": 25,
       "text": [
        "[u\"The Dormouse's story\",\n",
        " u\"The Dormouse's story\",\n",
        " u'Once upon a time there were three little sisters; and their names were',\n",
        " u'Elsie',\n",
        " u',',\n",
        " u'Lacie',\n",
        " u'and',\n",
        " u'Tillie',\n",
        " u';\\nand they lived at the bottom of a well.',\n",
        " u'...']"
       ]
      }
     ],
     "prompt_number": 25
    },
    {
     "cell_type": "code",
     "collapsed": false,
     "input": [
      "#can get a tag's parent"
     ],
     "language": "python",
     "metadata": {},
     "outputs": [],
     "prompt_number": 12
    },
    {
     "cell_type": "code",
     "collapsed": false,
     "input": [
      "soup.body.parent"
     ],
     "language": "python",
     "metadata": {},
     "outputs": [
      {
       "metadata": {},
       "output_type": "pyout",
       "prompt_number": 26,
       "text": [
        "<html><head><title>The Dormouse's story</title></head>\n",
        "<body>\n",
        "<p class=\"title\"><b>The Dormouse's story</b></p>\n",
        "<p class=\"story\">Once upon a time there were three little sisters; and their names were\n",
        "<a class=\"sister\" href=\"http://example.com/elsie\" id=\"link1\">Elsie</a>,\n",
        "<a class=\"sister\" href=\"http://example.com/lacie\" id=\"link2\">Lacie</a> and\n",
        "<a class=\"sister\" href=\"http://example.com/tillie\" id=\"link3\">Tillie</a>;\n",
        "and they lived at the bottom of a well.</p>\n",
        "<p class=\"story\">...</p>\n",
        "</body></html>"
       ]
      }
     ],
     "prompt_number": 26
    },
    {
     "cell_type": "code",
     "collapsed": false,
     "input": [
      "#could also get a tag's sibling (same level in tree) with .next_sibling or previous_sibling"
     ],
     "language": "python",
     "metadata": {},
     "outputs": [],
     "prompt_number": 27
    },
    {
     "cell_type": "code",
     "collapsed": false,
     "input": [
      "#filter and extract from tree"
     ],
     "language": "python",
     "metadata": {},
     "outputs": [],
     "prompt_number": 14
    },
    {
     "cell_type": "code",
     "collapsed": false,
     "input": [
      "soup.find_all('a') #find all <a> tags"
     ],
     "language": "python",
     "metadata": {},
     "outputs": [
      {
       "metadata": {},
       "output_type": "pyout",
       "prompt_number": 28,
       "text": [
        "[<a class=\"sister\" href=\"http://example.com/elsie\" id=\"link1\">Elsie</a>,\n",
        " <a class=\"sister\" href=\"http://example.com/lacie\" id=\"link2\">Lacie</a>,\n",
        " <a class=\"sister\" href=\"http://example.com/tillie\" id=\"link3\">Tillie</a>]"
       ]
      }
     ],
     "prompt_number": 28
    },
    {
     "cell_type": "code",
     "collapsed": false,
     "input": [
      "soup.find_all(href=\"http://example.com/elsie\") #look up a specific attribute value"
     ],
     "language": "python",
     "metadata": {},
     "outputs": []
    },
    {
     "cell_type": "code",
     "collapsed": false,
     "input": [
      "import re\n",
      "soup.find(text=re.compile('sisters')) #tell to lookup a certain value for a string"
     ],
     "language": "python",
     "metadata": {},
     "outputs": [
      {
       "metadata": {},
       "output_type": "pyout",
       "prompt_number": 29,
       "text": [
        "u'Once upon a time there were three little sisters; and their names were\\n'"
       ]
      }
     ],
     "prompt_number": 29
    },
    {
     "cell_type": "code",
     "collapsed": false,
     "input": [
      "soup.find_all(class_=\"sister\") #search for a certain class of a tag, but cannot use \"class=\"directly"
     ],
     "language": "python",
     "metadata": {},
     "outputs": [
      {
       "metadata": {},
       "output_type": "pyout",
       "prompt_number": 30,
       "text": [
        "[<a class=\"sister\" href=\"http://example.com/elsie\" id=\"link1\">Elsie</a>,\n",
        " <a class=\"sister\" href=\"http://example.com/lacie\" id=\"link2\">Lacie</a>,\n",
        " <a class=\"sister\" href=\"http://example.com/tillie\" id=\"link3\">Tillie</a>]"
       ]
      }
     ],
     "prompt_number": 30
    },
    {
     "cell_type": "code",
     "collapsed": false,
     "input": [
      "soup.find_all(id=True) #finds all tags with an id value"
     ],
     "language": "python",
     "metadata": {},
     "outputs": [
      {
       "metadata": {},
       "output_type": "pyout",
       "prompt_number": 31,
       "text": [
        "[<a class=\"sister\" href=\"http://example.com/elsie\" id=\"link1\">Elsie</a>,\n",
        " <a class=\"sister\" href=\"http://example.com/lacie\" id=\"link2\">Lacie</a>,\n",
        " <a class=\"sister\" href=\"http://example.com/tillie\" id=\"link3\">Tillie</a>]"
       ]
      }
     ],
     "prompt_number": 31
    },
    {
     "cell_type": "code",
     "collapsed": false,
     "input": [
      "#create a list with all urls on the page"
     ],
     "language": "python",
     "metadata": {},
     "outputs": [],
     "prompt_number": 15
    },
    {
     "cell_type": "code",
     "collapsed": false,
     "input": [
      "l = list()\n",
      "for link in soup.find_all('a'):\n",
      "    l.append(link.get('href'))\n",
      "l    "
     ],
     "language": "python",
     "metadata": {},
     "outputs": [
      {
       "metadata": {},
       "output_type": "pyout",
       "prompt_number": 33,
       "text": [
        "['http://example.com/elsie',\n",
        " 'http://example.com/lacie',\n",
        " 'http://example.com/tillie']"
       ]
      }
     ],
     "prompt_number": 33
    },
    {
     "cell_type": "code",
     "collapsed": false,
     "input": [
      "#we can do the same thing in a shorter manner in Python, using a \"list comprehension\""
     ],
     "language": "python",
     "metadata": {},
     "outputs": [],
     "prompt_number": 16
    },
    {
     "cell_type": "code",
     "collapsed": false,
     "input": [
      "l1 = [link.get('href') for link in soup.find_all('a')]"
     ],
     "language": "python",
     "metadata": {},
     "outputs": []
    },
    {
     "cell_type": "code",
     "collapsed": false,
     "input": [
      "#for data analysis we typically need a NumPy array or, even better, a pandas DataFrame\n",
      "#now I can create a simple one\n",
      "#to put all data together, some wrangling will be needed"
     ],
     "language": "python",
     "metadata": {},
     "outputs": [],
     "prompt_number": 17
    },
    {
     "cell_type": "code",
     "collapsed": false,
     "input": [
      "import pandas as pd\n",
      "pa = pd.DataFrame(l, columns = ['urls'])"
     ],
     "language": "python",
     "metadata": {},
     "outputs": []
    }
   ],
   "metadata": {}
  }
 ]
}