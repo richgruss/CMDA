{
 "metadata": {
  "name": "",
  "signature": "sha256:ef23219dc15ee9fdbcb7db3b14d67d2e11ce369cb59f1b7a86908cdfbc7ee282"
 },
 "nbformat": 3,
 "nbformat_minor": 0,
 "worksheets": [
  {
   "cells": [
    {
     "cell_type": "code",
     "collapsed": false,
     "input": [
      "from sklearn import datasets\n",
      "from sklearn import metrics\n",
      "from sklearn.svm import SVC\n",
      "import pyper as pr\n",
      "import pandas as pd"
     ],
     "language": "python",
     "metadata": {},
     "outputs": [],
     "prompt_number": 1
    },
    {
     "cell_type": "code",
     "collapsed": false,
     "input": [
      "# load the KDDcup data; still classify churn as in Lect 33-35"
     ],
     "language": "python",
     "metadata": {},
     "outputs": [],
     "prompt_number": 2
    },
    {
     "cell_type": "code",
     "collapsed": false,
     "input": [
      "r = pr.R(RCMD = 'C:\\\\Program Files\\\\R\\\\R-3.1.1\\\\bin\\\\R',use_pandas = True) #need to give the full path to R installation"
     ],
     "language": "python",
     "metadata": {},
     "outputs": [],
     "prompt_number": 3
    },
    {
     "cell_type": "code",
     "collapsed": false,
     "input": [
      "r(\"load('KDD2009.Rdata')\")"
     ],
     "language": "python",
     "metadata": {},
     "outputs": [],
     "prompt_number": 5
    },
    {
     "cell_type": "code",
     "collapsed": false,
     "input": [
      "#transfer data from R to Python"
     ],
     "language": "python",
     "metadata": {},
     "outputs": [],
     "prompt_number": 9
    },
    {
     "cell_type": "code",
     "collapsed": false,
     "input": [
      "r(\"dTrain$response <- dTrain$churn > 0\")"
     ],
     "language": "python",
     "metadata": {},
     "outputs": [
      {
       "metadata": {},
       "output_type": "pyout",
       "prompt_number": 13,
       "text": [
        "'try({dTrain$response <- dTrain$churn > 0})\\r\\n'"
       ]
      }
     ],
     "prompt_number": 13
    },
    {
     "cell_type": "code",
     "collapsed": false,
     "input": [
      "r(\"head(dTrain$response)\")"
     ],
     "language": "python",
     "metadata": {},
     "outputs": [
      {
       "metadata": {},
       "output_type": "pyout",
       "prompt_number": 15,
       "text": [
        "'try({head(dTrain$response)})\\r\\n[1] FALSE  TRUE FALSE FALSE FALSE FALSE\\r\\n'"
       ]
      }
     ],
     "prompt_number": 15
    },
    {
     "cell_type": "code",
     "collapsed": false,
     "input": [
      "#Pass data from R to Python"
     ],
     "language": "python",
     "metadata": {},
     "outputs": []
    },
    {
     "cell_type": "code",
     "collapsed": false,
     "input": [
      "target = r.get(\"dTrain$response\")"
     ],
     "language": "python",
     "metadata": {},
     "outputs": [],
     "prompt_number": 16
    },
    {
     "cell_type": "code",
     "collapsed": false,
     "input": [
      "target"
     ],
     "language": "python",
     "metadata": {},
     "outputs": [
      {
       "metadata": {},
       "output_type": "pyout",
       "prompt_number": 17,
       "text": [
        "array([False,  True, False, ..., False, False, False], dtype=bool)"
       ]
      }
     ],
     "prompt_number": 17
    },
    {
     "cell_type": "code",
     "collapsed": false,
     "input": [
      "r(\"features <- dTrain[,selVars]\")"
     ],
     "language": "python",
     "metadata": {},
     "outputs": [
      {
       "metadata": {},
       "output_type": "pyout",
       "prompt_number": 11,
       "text": [
        "'try({features <- dTrain[,selVars]})\\r\\n'"
       ]
      }
     ],
     "prompt_number": 11
    },
    {
     "cell_type": "code",
     "collapsed": false,
     "input": [
      "r(\"names(features)\")"
     ],
     "language": "python",
     "metadata": {},
     "outputs": [
      {
       "metadata": {},
       "output_type": "pyout",
       "prompt_number": 18,
       "text": [
        "'try({names(features)})\\r\\n [1] \"predVar194\" \"predVar201\" \"predVar204\" \"predVar205\" \"predVar206\"\\r\\n [6] \"predVar210\" \"predVar212\" \"predVar218\" \"predVar221\" \"predVar225\"\\r\\n[11] \"predVar226\" \"predVar228\" \"predVar229\" \"predVar6\"   \"predVar7\"  \\r\\n[16] \"predVar13\"  \"predVar28\"  \"predVar65\"  \"predVar72\"  \"predVar73\" \\r\\n[21] \"predVar74\"  \"predVar81\"  \"predVar113\" \"predVar126\" \"predVar140\"\\r\\n[26] \"predVar144\" \"predVar189\"\\r\\n'"
       ]
      }
     ],
     "prompt_number": 18
    },
    {
     "cell_type": "code",
     "collapsed": false,
     "input": [
      "features = r.get(\"features\") #pass data to Python"
     ],
     "language": "python",
     "metadata": {},
     "outputs": [],
     "prompt_number": 19
    },
    {
     "cell_type": "code",
     "collapsed": false,
     "input": [
      "features.describe()"
     ],
     "language": "python",
     "metadata": {},
     "outputs": [
      {
       "html": [
        "<div style=\"max-height:1000px;max-width:1500px;overflow:auto;\">\n",
        "<table border=\"1\" class=\"dataframe\">\n",
        "  <thead>\n",
        "    <tr style=\"text-align: right;\">\n",
        "      <th></th>\n",
        "      <th> predVar194 </th>\n",
        "      <th> predVar201 </th>\n",
        "      <th> predVar204 </th>\n",
        "      <th> predVar205 </th>\n",
        "      <th> predVar206 </th>\n",
        "      <th> predVar210 </th>\n",
        "      <th> predVar212 </th>\n",
        "      <th> predVar218 </th>\n",
        "      <th> predVar221 </th>\n",
        "      <th> predVar225 </th>\n",
        "      <th>...</th>\n",
        "      <th> predVar65 </th>\n",
        "      <th> predVar72 </th>\n",
        "      <th> predVar73 </th>\n",
        "      <th> predVar74 </th>\n",
        "      <th> predVar81 </th>\n",
        "      <th> predVar113 </th>\n",
        "      <th> predVar126 </th>\n",
        "      <th> predVar140 </th>\n",
        "      <th> predVar144 </th>\n",
        "      <th> predVar189 </th>\n",
        "    </tr>\n",
        "  </thead>\n",
        "  <tbody>\n",
        "    <tr>\n",
        "      <th>count</th>\n",
        "      <td> 40518.000000</td>\n",
        "      <td> 40518.000000</td>\n",
        "      <td> 40518.000000</td>\n",
        "      <td> 40518.000000</td>\n",
        "      <td> 40518.000000</td>\n",
        "      <td> 40518.000000</td>\n",
        "      <td> 40518.000000</td>\n",
        "      <td> 40518.000000</td>\n",
        "      <td> 40518.000000</td>\n",
        "      <td> 40518.000000</td>\n",
        "      <td>...</td>\n",
        "      <td> 40518.000000</td>\n",
        "      <td> 40518.000000</td>\n",
        "      <td> 40518.000000</td>\n",
        "      <td> 40518.000000</td>\n",
        "      <td> 40518.000000</td>\n",
        "      <td> 40518.000000</td>\n",
        "      <td> 40518.000000</td>\n",
        "      <td> 40518.000000</td>\n",
        "      <td> 40518.000000</td>\n",
        "      <td> 40518.000000</td>\n",
        "    </tr>\n",
        "    <tr>\n",
        "      <th>mean</th>\n",
        "      <td>     0.073794</td>\n",
        "      <td>     0.073794</td>\n",
        "      <td>     0.073794</td>\n",
        "      <td>     0.073794</td>\n",
        "      <td>     0.073794</td>\n",
        "      <td>     0.073794</td>\n",
        "      <td>     0.073794</td>\n",
        "      <td>     0.073794</td>\n",
        "      <td>     0.073794</td>\n",
        "      <td>     0.073794</td>\n",
        "      <td>...</td>\n",
        "      <td>     0.073794</td>\n",
        "      <td>     0.073794</td>\n",
        "      <td>     0.073794</td>\n",
        "      <td>     0.073794</td>\n",
        "      <td>     0.073794</td>\n",
        "      <td>     0.073796</td>\n",
        "      <td>     0.073794</td>\n",
        "      <td>     0.073794</td>\n",
        "      <td>     0.073794</td>\n",
        "      <td>     0.073794</td>\n",
        "    </tr>\n",
        "    <tr>\n",
        "      <th>std</th>\n",
        "      <td>     0.004148</td>\n",
        "      <td>     0.004399</td>\n",
        "      <td>     0.017581</td>\n",
        "      <td>     0.018368</td>\n",
        "      <td>     0.021921</td>\n",
        "      <td>     0.013941</td>\n",
        "      <td>     0.022731</td>\n",
        "      <td>     0.025656</td>\n",
        "      <td>     0.012104</td>\n",
        "      <td>     0.014103</td>\n",
        "      <td>...</td>\n",
        "      <td>     0.009779</td>\n",
        "      <td>     0.008090</td>\n",
        "      <td>     0.026417</td>\n",
        "      <td>     0.018932</td>\n",
        "      <td>     0.014884</td>\n",
        "      <td>     0.015935</td>\n",
        "      <td>     0.033098</td>\n",
        "      <td>     0.015471</td>\n",
        "      <td>     0.010232</td>\n",
        "      <td>     0.023341</td>\n",
        "    </tr>\n",
        "    <tr>\n",
        "      <th>min</th>\n",
        "      <td>     0.064516</td>\n",
        "      <td>     0.066660</td>\n",
        "      <td>     0.021053</td>\n",
        "      <td>     0.067223</td>\n",
        "      <td>     0.000011</td>\n",
        "      <td>     0.016668</td>\n",
        "      <td>     0.000002</td>\n",
        "      <td>     0.059614</td>\n",
        "      <td>     0.025000</td>\n",
        "      <td>     0.052573</td>\n",
        "      <td>...</td>\n",
        "      <td>     0.057238</td>\n",
        "      <td>     0.050000</td>\n",
        "      <td>     0.033515</td>\n",
        "      <td>     0.038733</td>\n",
        "      <td>     0.040325</td>\n",
        "      <td>     0.043446</td>\n",
        "      <td>     0.012311</td>\n",
        "      <td>     0.053289</td>\n",
        "      <td>     0.046398</td>\n",
        "      <td>     0.040532</td>\n",
        "    </tr>\n",
        "    <tr>\n",
        "      <th>25%</th>\n",
        "      <td>     0.066745</td>\n",
        "      <td>     0.066660</td>\n",
        "      <td>     0.062077</td>\n",
        "      <td>     0.067834</td>\n",
        "      <td>     0.047391</td>\n",
        "      <td>     0.071312</td>\n",
        "      <td>     0.049207</td>\n",
        "      <td>     0.059614</td>\n",
        "      <td>     0.073716</td>\n",
        "      <td>     0.058237</td>\n",
        "      <td>...</td>\n",
        "      <td>     0.061325</td>\n",
        "      <td>     0.077146</td>\n",
        "      <td>     0.044772</td>\n",
        "      <td>     0.057641</td>\n",
        "      <td>     0.057143</td>\n",
        "      <td>     0.066634</td>\n",
        "      <td>     0.058246</td>\n",
        "      <td>     0.058954</td>\n",
        "      <td>     0.066972</td>\n",
        "      <td>     0.072421</td>\n",
        "    </tr>\n",
        "    <tr>\n",
        "      <th>50%</th>\n",
        "      <td>     0.076224</td>\n",
        "      <td>     0.076222</td>\n",
        "      <td>     0.074725</td>\n",
        "      <td>     0.067834</td>\n",
        "      <td>     0.081487</td>\n",
        "      <td>     0.071312</td>\n",
        "      <td>     0.089468</td>\n",
        "      <td>     0.059614</td>\n",
        "      <td>     0.080381</td>\n",
        "      <td>     0.086309</td>\n",
        "      <td>...</td>\n",
        "      <td>     0.080354</td>\n",
        "      <td>     0.077146</td>\n",
        "      <td>     0.078012</td>\n",
        "      <td>     0.090849</td>\n",
        "      <td>     0.078480</td>\n",
        "      <td>     0.072805</td>\n",
        "      <td>     0.077137</td>\n",
        "      <td>     0.065458</td>\n",
        "      <td>     0.077623</td>\n",
        "      <td>     0.072421</td>\n",
        "    </tr>\n",
        "    <tr>\n",
        "      <th>75%</th>\n",
        "      <td>     0.076224</td>\n",
        "      <td>     0.076222</td>\n",
        "      <td>     0.083591</td>\n",
        "      <td>     0.067834</td>\n",
        "      <td>     0.089913</td>\n",
        "      <td>     0.071312</td>\n",
        "      <td>     0.089468</td>\n",
        "      <td>     0.083068</td>\n",
        "      <td>     0.080381</td>\n",
        "      <td>     0.086309</td>\n",
        "      <td>...</td>\n",
        "      <td>     0.080354</td>\n",
        "      <td>     0.077146</td>\n",
        "      <td>     0.093180</td>\n",
        "      <td>     0.090849</td>\n",
        "      <td>     0.085714</td>\n",
        "      <td>     0.074549</td>\n",
        "      <td>     0.110650</td>\n",
        "      <td>     0.090294</td>\n",
        "      <td>     0.082871</td>\n",
        "      <td>     0.072421</td>\n",
        "    </tr>\n",
        "    <tr>\n",
        "      <th>max</th>\n",
        "      <td>     0.076224</td>\n",
        "      <td>     0.199975</td>\n",
        "      <td>     0.131868</td>\n",
        "      <td>     0.132243</td>\n",
        "      <td>     0.099620</td>\n",
        "      <td>     0.210525</td>\n",
        "      <td>     0.666469</td>\n",
        "      <td>     0.264348</td>\n",
        "      <td>     0.080381</td>\n",
        "      <td>     0.086309</td>\n",
        "      <td>...</td>\n",
        "      <td>     0.080354</td>\n",
        "      <td>     0.077146</td>\n",
        "      <td>     0.124708</td>\n",
        "      <td>     0.090849</td>\n",
        "      <td>     0.089296</td>\n",
        "      <td>     0.111056</td>\n",
        "      <td>     0.110650</td>\n",
        "      <td>     0.098851</td>\n",
        "      <td>     0.082871</td>\n",
        "      <td>     0.158796</td>\n",
        "    </tr>\n",
        "  </tbody>\n",
        "</table>\n",
        "<p>8 rows \u00d7 27 columns</p>\n",
        "</div>"
       ],
       "metadata": {},
       "output_type": "pyout",
       "prompt_number": 28,
       "text": [
        "        predVar194    predVar201    predVar204    predVar205    predVar206   \\\n",
        "count  40518.000000  40518.000000  40518.000000  40518.000000  40518.000000   \n",
        "mean       0.073794      0.073794      0.073794      0.073794      0.073794   \n",
        "std        0.004148      0.004399      0.017581      0.018368      0.021921   \n",
        "min        0.064516      0.066660      0.021053      0.067223      0.000011   \n",
        "25%        0.066745      0.066660      0.062077      0.067834      0.047391   \n",
        "50%        0.076224      0.076222      0.074725      0.067834      0.081487   \n",
        "75%        0.076224      0.076222      0.083591      0.067834      0.089913   \n",
        "max        0.076224      0.199975      0.131868      0.132243      0.099620   \n",
        "\n",
        "        predVar210    predVar212    predVar218    predVar221    predVar225   \\\n",
        "count  40518.000000  40518.000000  40518.000000  40518.000000  40518.000000   \n",
        "mean       0.073794      0.073794      0.073794      0.073794      0.073794   \n",
        "std        0.013941      0.022731      0.025656      0.012104      0.014103   \n",
        "min        0.016668      0.000002      0.059614      0.025000      0.052573   \n",
        "25%        0.071312      0.049207      0.059614      0.073716      0.058237   \n",
        "50%        0.071312      0.089468      0.059614      0.080381      0.086309   \n",
        "75%        0.071312      0.089468      0.083068      0.080381      0.086309   \n",
        "max        0.210525      0.666469      0.264348      0.080381      0.086309   \n",
        "\n",
        "           ...         predVar65     predVar72     predVar73     predVar74   \\\n",
        "count      ...       40518.000000  40518.000000  40518.000000  40518.000000   \n",
        "mean       ...           0.073794      0.073794      0.073794      0.073794   \n",
        "std        ...           0.009779      0.008090      0.026417      0.018932   \n",
        "min        ...           0.057238      0.050000      0.033515      0.038733   \n",
        "25%        ...           0.061325      0.077146      0.044772      0.057641   \n",
        "50%        ...           0.080354      0.077146      0.078012      0.090849   \n",
        "75%        ...           0.080354      0.077146      0.093180      0.090849   \n",
        "max        ...           0.080354      0.077146      0.124708      0.090849   \n",
        "\n",
        "         predVar81    predVar113    predVar126    predVar140    predVar144   \\\n",
        "count  40518.000000  40518.000000  40518.000000  40518.000000  40518.000000   \n",
        "mean       0.073794      0.073796      0.073794      0.073794      0.073794   \n",
        "std        0.014884      0.015935      0.033098      0.015471      0.010232   \n",
        "min        0.040325      0.043446      0.012311      0.053289      0.046398   \n",
        "25%        0.057143      0.066634      0.058246      0.058954      0.066972   \n",
        "50%        0.078480      0.072805      0.077137      0.065458      0.077623   \n",
        "75%        0.085714      0.074549      0.110650      0.090294      0.082871   \n",
        "max        0.089296      0.111056      0.110650      0.098851      0.082871   \n",
        "\n",
        "        predVar189   \n",
        "count  40518.000000  \n",
        "mean       0.073794  \n",
        "std        0.023341  \n",
        "min        0.040532  \n",
        "25%        0.072421  \n",
        "50%        0.072421  \n",
        "75%        0.072421  \n",
        "max        0.158796  \n",
        "\n",
        "[8 rows x 27 columns]"
       ]
      }
     ],
     "prompt_number": 28
    },
    {
     "cell_type": "code",
     "collapsed": false,
     "input": [
      "from sklearn.preprocessing import StandardScaler #scale data"
     ],
     "language": "python",
     "metadata": {},
     "outputs": [],
     "prompt_number": 35
    },
    {
     "cell_type": "code",
     "collapsed": false,
     "input": [
      "scaler = StandardScaler().fit(features)"
     ],
     "language": "python",
     "metadata": {},
     "outputs": [],
     "prompt_number": 36
    },
    {
     "cell_type": "code",
     "collapsed": false,
     "input": [
      "sc_features = scaler.transform(features)"
     ],
     "language": "python",
     "metadata": {},
     "outputs": [],
     "prompt_number": 45
    },
    {
     "cell_type": "code",
     "collapsed": false,
     "input": [
      "sc_features"
     ],
     "language": "python",
     "metadata": {},
     "outputs": [
      {
       "metadata": {},
       "output_type": "pyout",
       "prompt_number": 46,
       "text": [
        "array([[ 29739.473,  24681.058, -1805.1677, ..., -3959.9345,  7761.1201,\n",
        "        -2621.7381],\n",
        "       [ 29739.473,  24681.058,  569.34661, ...,  4143.1147,  7761.1201,\n",
        "        -246.59095],\n",
        "       [-103074.97, -87624.184, -4857.014, ..., -5272.3325, -26286.784,\n",
        "        -246.59095],\n",
        "       ..., \n",
        "       [ 29739.473,  24681.058,  569.34661, ..., -5272.3325, -15689.773,\n",
        "        -246.59095],\n",
        "       [ 29739.473,  24681.058,  7200.4957, ...,  4143.1147,  2861.7045,\n",
        "        -1388.376],\n",
        "       [ 29739.473,  24681.058,  1204.3408, ..., -4321.1005, -7080.857,\n",
        "        -246.59095]], dtype=float64)"
       ]
      }
     ],
     "prompt_number": 46
    },
    {
     "cell_type": "code",
     "collapsed": false,
     "input": [
      "#use scaled data"
     ],
     "language": "python",
     "metadata": {},
     "outputs": [],
     "prompt_number": 40
    },
    {
     "cell_type": "code",
     "collapsed": false,
     "input": [
      "model1 = SVC()\n",
      "model1.fit(sc_features,target)"
     ],
     "language": "python",
     "metadata": {},
     "outputs": [
      {
       "metadata": {},
       "output_type": "pyout",
       "prompt_number": 41,
       "text": [
        "SVC(C=1.0, cache_size=200, class_weight=None, coef0=0.0, degree=3, gamma=0.0,\n",
        "  kernel='rbf', max_iter=-1, probability=False, random_state=None,\n",
        "  shrinking=True, tol=0.001, verbose=False)"
       ]
      }
     ],
     "prompt_number": 41
    },
    {
     "cell_type": "code",
     "collapsed": false,
     "input": [
      "#make predictions\n",
      "expected = target\n",
      "predicted = model1.predict(sc_features)"
     ],
     "language": "python",
     "metadata": {},
     "outputs": [],
     "prompt_number": 43
    },
    {
     "cell_type": "code",
     "collapsed": false,
     "input": [
      "predicted"
     ],
     "language": "python",
     "metadata": {},
     "outputs": [
      {
       "metadata": {},
       "output_type": "pyout",
       "prompt_number": 47,
       "text": [
        "array([False,  True, False, ..., False, False, False], dtype=bool)"
       ]
      }
     ],
     "prompt_number": 47
    },
    {
     "cell_type": "code",
     "collapsed": false,
     "input": [
      "print(metrics.roc_auc_score(expected,predicted)) #calculate AUC measure on same training data"
     ],
     "language": "python",
     "metadata": {},
     "outputs": [
      {
       "output_type": "stream",
       "stream": "stdout",
       "text": [
        "0.991137123746\n"
       ]
      }
     ],
     "prompt_number": 48
    },
    {
     "cell_type": "code",
     "collapsed": false,
     "input": [],
     "language": "python",
     "metadata": {},
     "outputs": []
    },
    {
     "cell_type": "heading",
     "level": 1,
     "metadata": {},
     "source": [
      "#Train SVM model"
     ]
    },
    {
     "cell_type": "code",
     "collapsed": false,
     "input": [
      "# fit a SVM model to the data\n",
      "model = SVC()\n",
      "model.fit(features, target)\n",
      "print(model)"
     ],
     "language": "python",
     "metadata": {},
     "outputs": [
      {
       "output_type": "stream",
       "stream": "stdout",
       "text": [
        "SVC(C=1.0, cache_size=200, class_weight=None, coef0=0.0, degree=3, gamma=0.0,\n",
        "  kernel=rbf, max_iter=-1, probability=False, random_state=None,\n",
        "  shrinking=True, tol=0.001, verbose=False)\n"
       ]
      }
     ],
     "prompt_number": 20
    },
    {
     "cell_type": "code",
     "collapsed": false,
     "input": [
      "SVC?"
     ],
     "language": "python",
     "metadata": {},
     "outputs": [],
     "prompt_number": 29
    },
    {
     "cell_type": "code",
     "collapsed": false,
     "input": [
      "# make predictions\n",
      "expected = target\n",
      "predicted = model.predict(features)"
     ],
     "language": "python",
     "metadata": {},
     "outputs": [],
     "prompt_number": 25
    },
    {
     "cell_type": "code",
     "collapsed": false,
     "input": [
      "predicted"
     ],
     "language": "python",
     "metadata": {},
     "outputs": [
      {
       "metadata": {},
       "output_type": "pyout",
       "prompt_number": 30,
       "text": [
        "array([False, False, False, ..., False, False, False], dtype=bool)"
       ]
      }
     ],
     "prompt_number": 30
    },
    {
     "cell_type": "code",
     "collapsed": false,
     "input": [
      "expected"
     ],
     "language": "python",
     "metadata": {},
     "outputs": [
      {
       "metadata": {},
       "output_type": "pyout",
       "prompt_number": 32,
       "text": [
        "array([False,  True, False, ..., False, False, False], dtype=bool)"
       ]
      }
     ],
     "prompt_number": 32
    },
    {
     "cell_type": "code",
     "collapsed": false,
     "input": [
      "#probably need to normalize data (scale)"
     ],
     "language": "python",
     "metadata": {},
     "outputs": []
    },
    {
     "cell_type": "heading",
     "level": 1,
     "metadata": {},
     "source": [
      "#Validation (same train set)"
     ]
    },
    {
     "cell_type": "code",
     "collapsed": false,
     "input": [
      "print(metrics.classification_report(expected, predicted))"
     ],
     "language": "python",
     "metadata": {},
     "outputs": [
      {
       "output_type": "stream",
       "stream": "stdout",
       "text": [
        "             precision    recall  f1-score   support\n",
        "\n",
        "      False       0.93      1.00      0.96     37528\n",
        "       True       0.00      0.00      0.00      2990\n",
        "\n",
        "avg / total       0.86      0.93      0.89     40518\n",
        "\n"
       ]
      },
      {
       "output_type": "stream",
       "stream": "stderr",
       "text": [
        "C:\\Users\\Denisa\\AppData\\Local\\Enthought\\Canopy\\User\\lib\\site-packages\\sklearn\\metrics\\metrics.py:1905: UserWarning: The sum of true positives and false positives are equal to zero for some labels. Precision is ill defined for those labels [ True]. The precision and recall are equal to zero for some labels. fbeta_score is ill defined for those labels [ True]. \n",
        "  average=None)\n"
       ]
      }
     ],
     "prompt_number": 22
    },
    {
     "cell_type": "code",
     "collapsed": false,
     "input": [
      "print(metrics.confusion_matrix(expected, predicted))"
     ],
     "language": "python",
     "metadata": {},
     "outputs": [
      {
       "output_type": "stream",
       "stream": "stdout",
       "text": [
        "[[37528     0]\n",
        " [ 2990     0]]\n"
       ]
      }
     ],
     "prompt_number": 23
    },
    {
     "cell_type": "code",
     "collapsed": false,
     "input": [
      "print(metrics.roc_auc_score(expected,predicted))"
     ],
     "language": "python",
     "metadata": {},
     "outputs": [
      {
       "output_type": "stream",
       "stream": "stdout",
       "text": [
        "0.5\n"
       ]
      }
     ],
     "prompt_number": 33
    },
    {
     "cell_type": "code",
     "collapsed": false,
     "input": [],
     "language": "python",
     "metadata": {},
     "outputs": []
    }
   ],
   "metadata": {}
  }
 ]
}