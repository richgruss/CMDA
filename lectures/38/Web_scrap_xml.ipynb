{
 "metadata": {
  "name": "",
  "signature": "sha256:a0145048434c5cd46e978c1b45da8fa2ab07842a9ab6502db7f99f22646286bd"
 },
 "nbformat": 3,
 "nbformat_minor": 0,
 "worksheets": [
  {
   "cells": [
    {
     "cell_type": "code",
     "collapsed": false,
     "input": [
      "#XML objects with objectify using MTA data"
     ],
     "language": "python",
     "metadata": {},
     "outputs": [],
     "prompt_number": 1
    },
    {
     "cell_type": "code",
     "collapsed": false,
     "input": [
      "from lxml import objectify\n",
      "import pandas as pd"
     ],
     "language": "python",
     "metadata": {},
     "outputs": [],
     "prompt_number": 2
    },
    {
     "cell_type": "code",
     "collapsed": false,
     "input": [
      "path = 'Performance_MNR.xml'\n",
      "parsed = objectify.parse(open(path))\n",
      "root = parsed.getroot()"
     ],
     "language": "python",
     "metadata": {},
     "outputs": [],
     "prompt_number": 3
    },
    {
     "cell_type": "code",
     "collapsed": false,
     "input": [
      "#figure out the structure of the tree and how to call different elements"
     ],
     "language": "python",
     "metadata": {},
     "outputs": [],
     "prompt_number": 4
    },
    {
     "cell_type": "code",
     "collapsed": false,
     "input": [
      "len(root.INDICATOR) #this is a list with 648 elements; look back at the structure of the xml tree"
     ],
     "language": "python",
     "metadata": {},
     "outputs": [
      {
       "metadata": {},
       "output_type": "pyout",
       "prompt_number": 5,
       "text": [
        "648"
       ]
      }
     ],
     "prompt_number": 5
    },
    {
     "cell_type": "code",
     "collapsed": false,
     "input": [
      "#first element"
     ],
     "language": "python",
     "metadata": {},
     "outputs": [],
     "prompt_number": 6
    },
    {
     "cell_type": "code",
     "collapsed": false,
     "input": [
      "elem1 = root.INDICATOR[0]"
     ],
     "language": "python",
     "metadata": {},
     "outputs": [],
     "prompt_number": 7
    },
    {
     "cell_type": "code",
     "collapsed": false,
     "input": [
      "elem1"
     ],
     "language": "python",
     "metadata": {},
     "outputs": [
      {
       "metadata": {},
       "output_type": "pyout",
       "prompt_number": 7,
       "text": [
        "<Element INDICATOR at 0x83c9088>"
       ]
      }
     ],
     "prompt_number": 7
    },
    {
     "cell_type": "code",
     "collapsed": false,
     "input": [
      "l1 = elem1.getchildren()"
     ],
     "language": "python",
     "metadata": {},
     "outputs": [],
     "prompt_number": 8
    },
    {
     "cell_type": "code",
     "collapsed": false,
     "input": [
      "l1 #notice that these are the values of the fields; we would like this info to be the first row/observation of a dataframe used\n",
      "#for analytics and vizualisations\n",
      "#the fields should be the variable/feature/column names in a dataframe"
     ],
     "language": "python",
     "metadata": {},
     "outputs": [
      {
       "metadata": {},
       "output_type": "pyout",
       "prompt_number": 9,
       "text": [
        "[28445,\n",
        " u'',\n",
        " 'Metro-North Railroad',\n",
        " 'On-Time Performance (West of Hudson)',\n",
        " 'Percent of commuter trains that arrive at their destinations within 5 minutes and 59 seconds of the scheduled time. West of Hudson services include the Pascack Valley and Port Jervis lines. Metro-North Railroad contracts with New Jersey Transit to operate service on these lines.\\n',\n",
        " 2008,\n",
        " 1,\n",
        " 'Service Indicators',\n",
        " 'M',\n",
        " 'U',\n",
        " '%',\n",
        " 1,\n",
        " 95.0,\n",
        " 96.9,\n",
        " 95.0,\n",
        " 96.9]"
       ]
      }
     ],
     "prompt_number": 9
    },
    {
     "cell_type": "code",
     "collapsed": false,
     "input": [
      "#We would like to access elements with their label as well such as: INDICATOR_SEQ:28445. This a key:value pair that looks like the\n",
      "#element of a dictionary. There is a way to creat this directly. We will create a list of dictionaries, each dictionary corresponding\n",
      "#to one row of a desired dataframe. We will then create the dataframe directly from the list, with the dictionary keys as column names\n",
      "#and the dictionary values as rows in the dataframe. Every dictionary has the same keys (column names are common)."
     ],
     "language": "python",
     "metadata": {},
     "outputs": [],
     "prompt_number": 10
    },
    {
     "cell_type": "code",
     "collapsed": false,
     "input": [
      "data = [] #the big list where we will includ each dict formed from each xml \"INDICATOR\" subtree. \n",
      "#The structure may be more complex in other xmls."
     ],
     "language": "python",
     "metadata": {},
     "outputs": [],
     "prompt_number": 11
    },
    {
     "cell_type": "code",
     "collapsed": false,
     "input": [
      "for elt in root.INDICATOR: #this iterates through each INDICATOR subtree, returned as an object with different attributes\n",
      "    el_data = {} #we create an empty dictionary to hold the current subtree info\n",
      "    for child in elt.getchildren(): # we extract each child of the current subtree; there are no other \"grandchildren\" here\n",
      "        el_data[child.tag] = child.pyval #we create the pair key:value. The \"tag\" is the key and the \"pyval\" attribute is the value.\n",
      "    data.append(el_data) #once we have the dictionary for the current \"subtree\", we add it to the list"
     ],
     "language": "python",
     "metadata": {},
     "outputs": [],
     "prompt_number": 12
    },
    {
     "cell_type": "code",
     "collapsed": false,
     "input": [
      "len(data) #we already know how long this needs to be"
     ],
     "language": "python",
     "metadata": {},
     "outputs": [
      {
       "metadata": {},
       "output_type": "pyout",
       "prompt_number": 13,
       "text": [
        "648"
       ]
      }
     ],
     "prompt_number": 13
    },
    {
     "cell_type": "code",
     "collapsed": false,
     "input": [
      "el_data #this is the last element added to the list"
     ],
     "language": "python",
     "metadata": {},
     "outputs": [
      {
       "metadata": {},
       "output_type": "pyout",
       "prompt_number": 14,
       "text": [
        "{'AGENCY_NAME': 'Metro-North Railroad',\n",
        " 'CATEGORY': 'Service Indicators',\n",
        " 'DECIMAL_PLACES': 1,\n",
        " 'DESCRIPTION': 'Percent of the time that escalators are operational systemwide. The availability rate is based on physical observations performed the morning of regular business days only. This is a new indicator the agency began reporting in 2009.',\n",
        " 'DESIRED_CHANGE': 'U',\n",
        " 'FREQUENCY': 'M',\n",
        " 'INDICATOR_NAME': 'Escalator Availability',\n",
        " 'INDICATOR_SEQ': 373889,\n",
        " 'INDICATOR_UNIT': '%',\n",
        " 'MONTHLY_ACTUAL': u'',\n",
        " 'MONTHLY_TARGET': 97.0,\n",
        " 'PARENT_SEQ': u'',\n",
        " 'PERIOD_MONTH': 12,\n",
        " 'PERIOD_YEAR': 2011,\n",
        " 'YTD_ACTUAL': u'',\n",
        " 'YTD_TARGET': 97.0}"
       ]
      }
     ],
     "prompt_number": 14
    },
    {
     "cell_type": "code",
     "collapsed": false,
     "input": [
      "perf = pd.DataFrame(data) #we create the Pandas DataFrame we need for analytics"
     ],
     "language": "python",
     "metadata": {},
     "outputs": [],
     "prompt_number": 15
    },
    {
     "cell_type": "code",
     "collapsed": false,
     "input": [
      "perf.head() #are the column names and rows values as expected? always check."
     ],
     "language": "python",
     "metadata": {},
     "outputs": [
      {
       "html": [
        "<div style=\"max-height:1000px;max-width:1500px;overflow:auto;\">\n",
        "<table border=\"1\" class=\"dataframe\">\n",
        "  <thead>\n",
        "    <tr style=\"text-align: right;\">\n",
        "      <th></th>\n",
        "      <th>AGENCY_NAME</th>\n",
        "      <th>CATEGORY</th>\n",
        "      <th>DECIMAL_PLACES</th>\n",
        "      <th>DESCRIPTION</th>\n",
        "      <th>DESIRED_CHANGE</th>\n",
        "      <th>FREQUENCY</th>\n",
        "      <th>INDICATOR_NAME</th>\n",
        "      <th>INDICATOR_SEQ</th>\n",
        "      <th>INDICATOR_UNIT</th>\n",
        "      <th>MONTHLY_ACTUAL</th>\n",
        "      <th>MONTHLY_TARGET</th>\n",
        "      <th>PARENT_SEQ</th>\n",
        "      <th>PERIOD_MONTH</th>\n",
        "      <th>PERIOD_YEAR</th>\n",
        "      <th>YTD_ACTUAL</th>\n",
        "      <th>YTD_TARGET</th>\n",
        "    </tr>\n",
        "  </thead>\n",
        "  <tbody>\n",
        "    <tr>\n",
        "      <th>0</th>\n",
        "      <td> Metro-North Railroad</td>\n",
        "      <td> Service Indicators</td>\n",
        "      <td> 1</td>\n",
        "      <td> Percent of commuter trains that arrive at thei...</td>\n",
        "      <td> U</td>\n",
        "      <td> M</td>\n",
        "      <td> On-Time Performance (West of Hudson)</td>\n",
        "      <td> 28445</td>\n",
        "      <td> %</td>\n",
        "      <td> 96.9</td>\n",
        "      <td> 95</td>\n",
        "      <td> </td>\n",
        "      <td> 1</td>\n",
        "      <td> 2008</td>\n",
        "      <td> 96.9</td>\n",
        "      <td> 95</td>\n",
        "    </tr>\n",
        "    <tr>\n",
        "      <th>1</th>\n",
        "      <td> Metro-North Railroad</td>\n",
        "      <td> Service Indicators</td>\n",
        "      <td> 1</td>\n",
        "      <td> Percent of commuter trains that arrive at thei...</td>\n",
        "      <td> U</td>\n",
        "      <td> M</td>\n",
        "      <td> On-Time Performance (West of Hudson)</td>\n",
        "      <td> 28445</td>\n",
        "      <td> %</td>\n",
        "      <td>   95</td>\n",
        "      <td> 95</td>\n",
        "      <td> </td>\n",
        "      <td> 2</td>\n",
        "      <td> 2008</td>\n",
        "      <td>   96</td>\n",
        "      <td> 95</td>\n",
        "    </tr>\n",
        "    <tr>\n",
        "      <th>2</th>\n",
        "      <td> Metro-North Railroad</td>\n",
        "      <td> Service Indicators</td>\n",
        "      <td> 1</td>\n",
        "      <td> Percent of commuter trains that arrive at thei...</td>\n",
        "      <td> U</td>\n",
        "      <td> M</td>\n",
        "      <td> On-Time Performance (West of Hudson)</td>\n",
        "      <td> 28445</td>\n",
        "      <td> %</td>\n",
        "      <td> 96.9</td>\n",
        "      <td> 95</td>\n",
        "      <td> </td>\n",
        "      <td> 3</td>\n",
        "      <td> 2008</td>\n",
        "      <td> 96.3</td>\n",
        "      <td> 95</td>\n",
        "    </tr>\n",
        "    <tr>\n",
        "      <th>3</th>\n",
        "      <td> Metro-North Railroad</td>\n",
        "      <td> Service Indicators</td>\n",
        "      <td> 1</td>\n",
        "      <td> Percent of commuter trains that arrive at thei...</td>\n",
        "      <td> U</td>\n",
        "      <td> M</td>\n",
        "      <td> On-Time Performance (West of Hudson)</td>\n",
        "      <td> 28445</td>\n",
        "      <td> %</td>\n",
        "      <td> 98.3</td>\n",
        "      <td> 95</td>\n",
        "      <td> </td>\n",
        "      <td> 4</td>\n",
        "      <td> 2008</td>\n",
        "      <td> 96.8</td>\n",
        "      <td> 95</td>\n",
        "    </tr>\n",
        "    <tr>\n",
        "      <th>4</th>\n",
        "      <td> Metro-North Railroad</td>\n",
        "      <td> Service Indicators</td>\n",
        "      <td> 1</td>\n",
        "      <td> Percent of commuter trains that arrive at thei...</td>\n",
        "      <td> U</td>\n",
        "      <td> M</td>\n",
        "      <td> On-Time Performance (West of Hudson)</td>\n",
        "      <td> 28445</td>\n",
        "      <td> %</td>\n",
        "      <td> 95.8</td>\n",
        "      <td> 95</td>\n",
        "      <td> </td>\n",
        "      <td> 5</td>\n",
        "      <td> 2008</td>\n",
        "      <td> 96.6</td>\n",
        "      <td> 95</td>\n",
        "    </tr>\n",
        "  </tbody>\n",
        "</table>\n",
        "</div>"
       ],
       "metadata": {},
       "output_type": "pyout",
       "prompt_number": 28,
       "text": [
        "            AGENCY_NAME            CATEGORY  DECIMAL_PLACES  \\\n",
        "0  Metro-North Railroad  Service Indicators               1   \n",
        "1  Metro-North Railroad  Service Indicators               1   \n",
        "2  Metro-North Railroad  Service Indicators               1   \n",
        "3  Metro-North Railroad  Service Indicators               1   \n",
        "4  Metro-North Railroad  Service Indicators               1   \n",
        "\n",
        "                                         DESCRIPTION DESIRED_CHANGE FREQUENCY  \\\n",
        "0  Percent of commuter trains that arrive at thei...              U         M   \n",
        "1  Percent of commuter trains that arrive at thei...              U         M   \n",
        "2  Percent of commuter trains that arrive at thei...              U         M   \n",
        "3  Percent of commuter trains that arrive at thei...              U         M   \n",
        "4  Percent of commuter trains that arrive at thei...              U         M   \n",
        "\n",
        "                         INDICATOR_NAME  INDICATOR_SEQ INDICATOR_UNIT  \\\n",
        "0  On-Time Performance (West of Hudson)          28445              %   \n",
        "1  On-Time Performance (West of Hudson)          28445              %   \n",
        "2  On-Time Performance (West of Hudson)          28445              %   \n",
        "3  On-Time Performance (West of Hudson)          28445              %   \n",
        "4  On-Time Performance (West of Hudson)          28445              %   \n",
        "\n",
        "  MONTHLY_ACTUAL MONTHLY_TARGET PARENT_SEQ  PERIOD_MONTH  PERIOD_YEAR  \\\n",
        "0           96.9             95                        1         2008   \n",
        "1             95             95                        2         2008   \n",
        "2           96.9             95                        3         2008   \n",
        "3           98.3             95                        4         2008   \n",
        "4           95.8             95                        5         2008   \n",
        "\n",
        "  YTD_ACTUAL YTD_TARGET  \n",
        "0       96.9         95  \n",
        "1         96         95  \n",
        "2       96.3         95  \n",
        "3       96.8         95  \n",
        "4       96.6         95  "
       ]
      }
     ],
     "prompt_number": 28
    },
    {
     "cell_type": "code",
     "collapsed": false,
     "input": [
      "#Suggested inclass: Extract a pandas DataFrame from the information in Performance_LIBUS.xml provided on Scholar (Long Island bus). \n",
      "#Consult the data in the EXCEL file on Scholar and think what sort of analytics and visualizations you might look at\n",
      "#to assess the performance of the LI bus system. What columns will you use?\n"
     ],
     "language": "python",
     "metadata": {},
     "outputs": []
    }
   ],
   "metadata": {}
  }
 ]
}