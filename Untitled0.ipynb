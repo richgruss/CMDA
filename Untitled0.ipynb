{
 "metadata": {
  "name": "",
  "signature": "sha256:785a1b348e502bd39370c180c88e879ec213af6e13fee2955e4966788777e599"
 },
 "nbformat": 3,
 "nbformat_minor": 0,
 "worksheets": [
  {
   "cells": [
    {
     "cell_type": "code",
     "collapsed": false,
     "input": [
      "import pandas,numpy,matplotlib"
     ],
     "language": "python",
     "metadata": {},
     "outputs": [],
     "prompt_number": 1
    },
    {
     "cell_type": "code",
     "collapsed": false,
     "input": [
      "pandas.*?"
     ],
     "language": "python",
     "metadata": {},
     "outputs": [],
     "prompt_number": 10
    },
    {
     "cell_type": "code",
     "collapsed": false,
     "input": [
      "numpy.*?"
     ],
     "language": "python",
     "metadata": {},
     "outputs": [],
     "prompt_number": 11
    },
    {
     "cell_type": "code",
     "collapsed": false,
     "input": [
      "matplotlib.*?"
     ],
     "language": "python",
     "metadata": {},
     "outputs": [],
     "prompt_number": 12
    },
    {
     "cell_type": "code",
     "collapsed": false,
     "input": [
      "ten_things = \"Apples Oranges Crows Telephone Light Sugar\"\n",
      "\n",
      "stuff = ten_things.split(' ')\n",
      "\n",
      "more_stuff = [\"Day\", \"Night\", \"Song\", \"Frisbee\", \"Corn\", \"Banana\", \"Girl\", \"Boy\"]\n",
      "\n",
      "while len(stuff) != 10:\n",
      "    next_one = more_stuff.pop()\n",
      "    print \"Adding: \", next_one\n",
      "    stuff.append(next_one)\n",
      "    print \"There are %d items now.\" % len(stuff)\n",
      "\n",
      "print \"The 'stuff' list: \", stuff\n"
     ],
     "language": "python",
     "metadata": {},
     "outputs": [
      {
       "output_type": "stream",
       "stream": "stdout",
       "text": [
        "Adding:  Boy\n",
        "There are 7 items now.\n",
        "Adding:  Girl\n",
        "There are 8 items now.\n",
        "Adding:  Banana\n",
        "There are 9 items now.\n",
        "Adding:  Corn\n",
        "There are 10 items now.\n",
        "The 'stuff' list:  ['Apples', 'Oranges', 'Crows', 'Telephone', 'Light', 'Sugar', 'Boy', 'Girl', 'Banana', 'Corn']\n"
       ]
      }
     ],
     "prompt_number": 14
    },
    {
     "cell_type": "code",
     "collapsed": false,
     "input": [
      "%ls"
     ],
     "language": "python",
     "metadata": {},
     "outputs": [
      {
       "output_type": "stream",
       "stream": "stdout",
       "text": [
        "Ch4Notes.docx               car.data.csv\r\n",
        "Gruss_HW1.R                 credit.RData\r\n",
        "Gruss_InClass2Part1+II.R    \u001b[34mdata\u001b[m\u001b[m/\r\n",
        "Gruss_InClass2Part1.R       data_analytics_java.iml\r\n",
        "Gruss_Wk4.docx              database_test.R\r\n",
        "Gruss_inClass3.R            \u001b[34mdb\u001b[m\u001b[m/\r\n",
        "Gruss_inclass1.R            exampleData.rData\r\n",
        "Gruss_week4.pdf             exampleData1.rData\r\n",
        "Gruss_week5.docx            fpe.csv\r\n",
        "Gruss_week5.pdf             fpe.txt\r\n",
        "HW3.pdf                     h2testdbsession\r\n",
        "Inclass4_3.py               \u001b[34mhomework\u001b[m\u001b[m/\r\n",
        "Lect10.R                    lect10notes.txt\r\n",
        "Lect11.R                    \u001b[34mlectures\u001b[m\u001b[m/\r\n",
        "Lect7.R                     \u001b[34mlib\u001b[m\u001b[m/\r\n",
        "Lect8.R                     pewSocialNames.txt\r\n",
        "Lect9.R                     pewSocialNamesSubset.txt\r\n",
        "Lecture14.py                phsample.RData\r\n",
        "Lecture6.R                  prices.csv\r\n",
        "Lecture8Notes.R             \u001b[34mpython\u001b[m\u001b[m/\r\n",
        "README.md                   readlinestest.txt\r\n",
        "R_experiments.R             screwdriver_properties.xml\r\n",
        "ScoutSujyotHW1.r            tinytable.txt\r\n",
        "Untitled0.ipynb\r\n"
       ]
      }
     ],
     "prompt_number": 15
    },
    {
     "cell_type": "code",
     "collapsed": false,
     "input": [
      "%quickref"
     ],
     "language": "python",
     "metadata": {},
     "outputs": [],
     "prompt_number": 19
    },
    {
     "cell_type": "code",
     "collapsed": false,
     "input": [
      "%ls"
     ],
     "language": "python",
     "metadata": {},
     "outputs": [
      {
       "output_type": "stream",
       "stream": "stdout",
       "text": [
        "Ch4Notes.docx               car.data.csv\r\n",
        "Gruss_HW1.R                 credit.RData\r\n",
        "Gruss_InClass2Part1+II.R    \u001b[34mdata\u001b[m\u001b[m/\r\n",
        "Gruss_InClass2Part1.R       data_analytics_java.iml\r\n",
        "Gruss_Wk4.docx              database_test.R\r\n",
        "Gruss_inClass3.R            \u001b[34mdb\u001b[m\u001b[m/\r\n",
        "Gruss_inclass1.R            exampleData.rData\r\n",
        "Gruss_week4.pdf             exampleData1.rData\r\n",
        "Gruss_week5.docx            fpe.csv\r\n",
        "Gruss_week5.pdf             fpe.txt\r\n",
        "HW3.pdf                     h2testdbsession\r\n",
        "Inclass4_3.py               \u001b[34mhomework\u001b[m\u001b[m/\r\n",
        "Lect10.R                    lect10notes.txt\r\n",
        "Lect11.R                    \u001b[34mlectures\u001b[m\u001b[m/\r\n",
        "Lect7.R                     \u001b[34mlib\u001b[m\u001b[m/\r\n",
        "Lect8.R                     pewSocialNames.txt\r\n",
        "Lect9.R                     pewSocialNamesSubset.txt\r\n",
        "Lecture14.py                phsample.RData\r\n",
        "Lecture6.R                  prices.csv\r\n",
        "Lecture8Notes.R             \u001b[34mpython\u001b[m\u001b[m/\r\n",
        "README.md                   readlinestest.txt\r\n",
        "R_experiments.R             screwdriver_properties.xml\r\n",
        "ScoutSujyotHW1.r            tinytable.txt\r\n",
        "Untitled0.ipynb\r\n"
       ]
      }
     ],
     "prompt_number": 20
    },
    {
     "cell_type": "code",
     "collapsed": false,
     "input": [
      "%pwd"
     ],
     "language": "python",
     "metadata": {},
     "outputs": [
      {
       "metadata": {},
       "output_type": "pyout",
       "prompt_number": 21,
       "text": [
        "u'/Users/rgruss/git/CMDA'"
       ]
      }
     ],
     "prompt_number": 21
    },
    {
     "cell_type": "code",
     "collapsed": false,
     "input": [
      "%hist"
     ],
     "language": "python",
     "metadata": {},
     "outputs": [
      {
       "output_type": "stream",
       "stream": "stdout",
       "text": [
        "import pandas,numpy,matplotlib\n",
        "print pandas.*\n",
        "print pandas.*?\n",
        "print pandas.*\n",
        "print pandas.*?\n",
        "print pandas.*?\n",
        "print pandas.*?\n",
        "print numpy.*?\n",
        "pandas.*?\n",
        "pandas.*?\n",
        "numpy.*?\n",
        "matplotlib.*?\n",
        "stuff = ten_things.split(' ')\n",
        "\n",
        "more_stuff = [\"Day\", \"Night\", \"Song\", \"Frisbee\", \"Corn\", \"Banana\", \"Girl\", \"Boy\"]\n",
        "\n",
        "while len(stuff) != 10:\n",
        "    next_one = more_stuff.pop()\n",
        "    print \"Adding: \", next_one\n",
        "    stuff.append(next_one)\n",
        "    print \"There are %d items now.\" % len(stuff)\n",
        "\n",
        "print \"The 'stuff' list: \", stuff\n",
        "ten_things = \"Apples Oranges Crows Telephone Light Sugar\"\n",
        "\n",
        "stuff = ten_things.split(' ')\n",
        "\n",
        "more_stuff = [\"Day\", \"Night\", \"Song\", \"Frisbee\", \"Corn\", \"Banana\", \"Girl\", \"Boy\"]\n",
        "\n",
        "while len(stuff) != 10:\n",
        "    next_one = more_stuff.pop()\n",
        "    print \"Adding: \", next_one\n",
        "    stuff.append(next_one)\n",
        "    print \"There are %d items now.\" % len(stuff)\n",
        "\n",
        "print \"The 'stuff' list: \", stuff\n",
        "%ls\n",
        "%quickref\n",
        "%quickref\n",
        "quickref\n",
        "%quickref\n",
        "%ls\n",
        "%pwd\n",
        "%hist\n"
       ]
      }
     ],
     "prompt_number": 22
    },
    {
     "cell_type": "code",
     "collapsed": false,
     "input": [
      "?%xdel"
     ],
     "language": "python",
     "metadata": {},
     "outputs": [],
     "prompt_number": 23
    },
    {
     "cell_type": "code",
     "collapsed": false,
     "input": [
      "?%str.split"
     ],
     "language": "python",
     "metadata": {},
     "outputs": [
      {
       "output_type": "stream",
       "stream": "stdout",
       "text": [
        "Object `%str.split` not found.\n"
       ]
      }
     ],
     "prompt_number": 24
    },
    {
     "cell_type": "code",
     "collapsed": false,
     "input": [
      "import re"
     ],
     "language": "python",
     "metadata": {},
     "outputs": [],
     "prompt_number": 28
    },
    {
     "cell_type": "code",
     "collapsed": false,
     "input": [
      "re?"
     ],
     "language": "python",
     "metadata": {},
     "outputs": [],
     "prompt_number": 29
    },
    {
     "cell_type": "code",
     "collapsed": false,
     "input": [
      "import matplotlib.pylab"
     ],
     "language": "python",
     "metadata": {},
     "outputs": [],
     "prompt_number": 30
    },
    {
     "cell_type": "code",
     "collapsed": false,
     "input": [
      "matplotlib.pylab?"
     ],
     "language": "python",
     "metadata": {},
     "outputs": [],
     "prompt_number": 31
    },
    {
     "cell_type": "code",
     "collapsed": false,
     "input": [
      "%matplotlib inline\n",
      "a = numpy.random.randn(100) \n",
      "plot(a.cumsum()) \n"
     ],
     "language": "python",
     "metadata": {},
     "outputs": [
      {
       "metadata": {},
       "output_type": "pyout",
       "prompt_number": 32,
       "text": [
        "[<matplotlib.lines.Line2D at 0x1087b1a50>]"
       ]
      },
      {
       "metadata": {},
       "output_type": "display_data",
       "png": "[encoded data removed]",
       "text": [
        "<matplotlib.figure.Figure at 0x103fe7e90>"
       ]
      }
     ],
     "prompt_number": 32
    },
    {
     "cell_type": "code",
     "collapsed": false,
     "input": [
      "cumsum?"
     ],
     "language": "python",
     "metadata": {},
     "outputs": [],
     "prompt_number": 33
    },
    {
     "cell_type": "code",
     "collapsed": false,
     "input": [
      "%timeit numpy.random.randn(100)"
     ],
     "language": "python",
     "metadata": {},
     "outputs": [
      {
       "output_type": "stream",
       "stream": "stdout",
       "text": [
        "100000 loops, best of 3: 3.89 \u00b5s per loop\n"
       ]
      }
     ],
     "prompt_number": 34
    },
    {
     "cell_type": "code",
     "collapsed": false,
     "input": [
      "%timeit numpy.random.randn(1000)"
     ],
     "language": "python",
     "metadata": {},
     "outputs": [
      {
       "output_type": "stream",
       "stream": "stdout",
       "text": [
        "10000 loops, best of 3: 29.2 \u00b5s per loop\n"
       ]
      }
     ],
     "prompt_number": 36
    },
    {
     "cell_type": "code",
     "collapsed": false,
     "input": [
      "%timeit numpy.random.randn(10000)"
     ],
     "language": "python",
     "metadata": {},
     "outputs": [
      {
       "output_type": "stream",
       "stream": "stdout",
       "text": [
        "1000 loops, best of 3: 279 \u00b5s per loop\n"
       ]
      }
     ],
     "prompt_number": 37
    },
    {
     "cell_type": "code",
     "collapsed": false,
     "input": [],
     "language": "python",
     "metadata": {},
     "outputs": []
    }
   ],
   "metadata": {}
  }
 ]
}