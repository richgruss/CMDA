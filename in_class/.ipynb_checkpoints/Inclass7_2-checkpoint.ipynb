{
 "metadata": {
  "name": "",
  "signature": "sha256:17d613d1229fadba99013c2bebac057f9834ec437e230b0fa4c0fd4adc423d54"
 },
 "nbformat": 3,
 "nbformat_minor": 0,
 "worksheets": []
}