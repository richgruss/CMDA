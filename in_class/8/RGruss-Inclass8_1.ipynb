{
 "metadata": {
  "name": "",
  "signature": "sha256:ffdb310be508c22db33e065bc700203479647c66e58e2947ac994b71437fa80b"
 },
 "nbformat": 3,
 "nbformat_minor": 0,
 "worksheets": [
  {
   "cells": [
    {
     "cell_type": "code",
     "collapsed": false,
     "input": [
      "import pandas as pd\n",
      "import matplotlib.pyplot as plt\n",
      "import pyper as pr"
     ],
     "language": "python",
     "metadata": {},
     "outputs": [],
     "prompt_number": 1
    },
    {
     "cell_type": "code",
     "collapsed": false,
     "input": [
      "iris = pd.read_csv('iris.csv')"
     ],
     "language": "python",
     "metadata": {},
     "outputs": [],
     "prompt_number": 2
    },
    {
     "cell_type": "code",
     "collapsed": false,
     "input": [
      "iris.head()"
     ],
     "language": "python",
     "metadata": {},
     "outputs": [
      {
       "html": [
        "<div style=\"max-height:1000px;max-width:1500px;overflow:auto;\">\n",
        "<table border=\"1\" class=\"dataframe\">\n",
        "  <thead>\n",
        "    <tr style=\"text-align: right;\">\n",
        "      <th></th>\n",
        "      <th>sepall</th>\n",
        "      <th>sepalw</th>\n",
        "      <th>petall</th>\n",
        "      <th>petalw</th>\n",
        "      <th>Species</th>\n",
        "    </tr>\n",
        "  </thead>\n",
        "  <tbody>\n",
        "    <tr>\n",
        "      <th>0</th>\n",
        "      <td> 5.1</td>\n",
        "      <td> 3.5</td>\n",
        "      <td> 1.4</td>\n",
        "      <td> 0.2</td>\n",
        "      <td> 0</td>\n",
        "    </tr>\n",
        "    <tr>\n",
        "      <th>1</th>\n",
        "      <td> 4.9</td>\n",
        "      <td> 3.0</td>\n",
        "      <td> 1.4</td>\n",
        "      <td> 0.2</td>\n",
        "      <td> 0</td>\n",
        "    </tr>\n",
        "    <tr>\n",
        "      <th>2</th>\n",
        "      <td> 4.7</td>\n",
        "      <td> 3.2</td>\n",
        "      <td> 1.3</td>\n",
        "      <td> 0.2</td>\n",
        "      <td> 0</td>\n",
        "    </tr>\n",
        "    <tr>\n",
        "      <th>3</th>\n",
        "      <td> 4.6</td>\n",
        "      <td> 3.1</td>\n",
        "      <td> 1.5</td>\n",
        "      <td> 0.2</td>\n",
        "      <td> 0</td>\n",
        "    </tr>\n",
        "    <tr>\n",
        "      <th>4</th>\n",
        "      <td> 5.0</td>\n",
        "      <td> 3.6</td>\n",
        "      <td> 1.4</td>\n",
        "      <td> 0.2</td>\n",
        "      <td> 0</td>\n",
        "    </tr>\n",
        "  </tbody>\n",
        "</table>\n",
        "</div>"
       ],
       "metadata": {},
       "output_type": "pyout",
       "prompt_number": 3,
       "text": [
        "   sepall  sepalw  petall  petalw  Species\n",
        "0     5.1     3.5     1.4     0.2        0\n",
        "1     4.9     3.0     1.4     0.2        0\n",
        "2     4.7     3.2     1.3     0.2        0\n",
        "3     4.6     3.1     1.5     0.2        0\n",
        "4     5.0     3.6     1.4     0.2        0"
       ]
      }
     ],
     "prompt_number": 3
    },
    {
     "cell_type": "code",
     "collapsed": false,
     "input": [
      "print iris.shape"
     ],
     "language": "python",
     "metadata": {},
     "outputs": [
      {
       "output_type": "stream",
       "stream": "stdout",
       "text": [
        "(150, 5)\n"
       ]
      }
     ],
     "prompt_number": 4
    },
    {
     "cell_type": "code",
     "collapsed": false,
     "input": [
      "iris.describe()"
     ],
     "language": "python",
     "metadata": {},
     "outputs": []
    },
    {
     "cell_type": "code",
     "collapsed": false,
     "input": [
      "iris['sepall'].value_counts()"
     ],
     "language": "python",
     "metadata": {},
     "outputs": [
      {
       "metadata": {},
       "output_type": "pyout",
       "prompt_number": 5,
       "text": [
        "5.0    10\n",
        "6.3     9\n",
        "5.1     9\n",
        "6.7     8\n",
        "5.7     8\n",
        "5.8     7\n",
        "6.4     7\n",
        "5.5     7\n",
        "6.1     6\n",
        "4.9     6\n",
        "6.0     6\n",
        "5.6     6\n",
        "5.4     6\n",
        "4.8     5\n",
        "6.5     5\n",
        "7.7     4\n",
        "6.2     4\n",
        "6.9     4\n",
        "4.6     4\n",
        "5.2     4\n",
        "6.8     3\n",
        "5.9     3\n",
        "4.4     3\n",
        "7.2     3\n",
        "4.7     2\n",
        "6.6     2\n",
        "7.0     1\n",
        "4.5     1\n",
        "4.3     1\n",
        "7.4     1\n",
        "7.1     1\n",
        "7.9     1\n",
        "7.3     1\n",
        "7.6     1\n",
        "5.3     1\n",
        "dtype: int64"
       ]
      }
     ],
     "prompt_number": 5
    },
    {
     "cell_type": "code",
     "collapsed": false,
     "input": [
      "iris['sepalw'].value_counts()"
     ],
     "language": "python",
     "metadata": {},
     "outputs": []
    },
    {
     "cell_type": "code",
     "collapsed": false,
     "input": [
      "iris['petall'].value_counts()\n"
     ],
     "language": "python",
     "metadata": {},
     "outputs": []
    },
    {
     "cell_type": "code",
     "collapsed": false,
     "input": [
      "iris['sepalw'].value_counts()"
     ],
     "language": "python",
     "metadata": {},
     "outputs": []
    },
    {
     "cell_type": "code",
     "collapsed": false,
     "input": [
      "r = pr.R(use_pandas=True)"
     ],
     "language": "python",
     "metadata": {},
     "outputs": [],
     "prompt_number": 3
    },
    {
     "cell_type": "code",
     "collapsed": false,
     "input": [
      "r.assign('rdata', iris)"
     ],
     "language": "python",
     "metadata": {},
     "outputs": [],
     "prompt_number": 4
    },
    {
     "cell_type": "code",
     "collapsed": false,
     "input": [
      "print r(\"head(rdata)\")"
     ],
     "language": "python",
     "metadata": {},
     "outputs": [
      {
       "output_type": "stream",
       "stream": "stdout",
       "text": [
        "try({head(rdata)})\n",
        "  sepall sepalw petall petalw Species\n",
        "0    5.1    3.5    1.4    0.2       0\n",
        "1    4.9    3.0    1.4    0.2       0\n",
        "2    4.7    3.2    1.3    0.2       0\n",
        "3    4.6    3.1    1.5    0.2       0\n",
        "4    5.0    3.6    1.4    0.2       0\n",
        "5    5.4    3.9    1.7    0.4       0\n",
        "\n"
       ]
      }
     ],
     "prompt_number": 5
    },
    {
     "cell_type": "code",
     "collapsed": false,
     "input": [
      "print r(\"names(rdata)\")"
     ],
     "language": "python",
     "metadata": {},
     "outputs": [
      {
       "output_type": "stream",
       "stream": "stdout",
       "text": [
        "try({names(rdata)})\n",
        "[1] \"sepall\"  \"sepalw\"  \"petall\"  \"petalw\"  \"Species\"\n",
        "\n"
       ]
      }
     ],
     "prompt_number": 12
    },
    {
     "cell_type": "code",
     "collapsed": false,
     "input": [
      "print r(\"?princomp\")"
     ],
     "language": "python",
     "metadata": {},
     "outputs": [
      {
       "output_type": "stream",
       "stream": "stdout",
       "text": [
        "try({?princomp})\n",
        "princomp                 package:stats                 R Documentation\n",
        "\n",
        "_\bP_\br_\bi_\bn_\bc_\bi_\bp_\ba_\bl _\bC_\bo_\bm_\bp_\bo_\bn_\be_\bn_\bt_\bs _\bA_\bn_\ba_\bl_\by_\bs_\bi_\bs\n",
        "\n",
        "_\bD_\be_\bs_\bc_\br_\bi_\bp_\bt_\bi_\bo_\bn:\n",
        "\n",
        "     \u2018princomp\u2019 performs a principal components analysis on the given\n",
        "     numeric data matrix and returns the results as an object of class\n",
        "     \u2018princomp\u2019.\n",
        "\n",
        "_\bU_\bs_\ba_\bg_\be:\n",
        "\n",
        "     princomp(x, ...)\n",
        "     \n",
        "     ## S3 method for class 'formula'\n",
        "     princomp(formula, data = NULL, subset, na.action, ...)\n",
        "     \n",
        "     ## Default S3 method:\n",
        "     princomp(x, cor = FALSE, scores = TRUE, covmat = NULL,\n",
        "              subset = rep_len(TRUE, nrow(as.matrix(x))), ...)\n",
        "     \n",
        "     ## S3 method for class 'princomp'\n",
        "     predict(object, newdata, ...)\n",
        "     \n",
        "_\bA_\br_\bg_\bu_\bm_\be_\bn_\bt_\bs:\n",
        "\n",
        " formula: a formula with no response variable, referring only to\n",
        "          numeric variables.\n",
        "\n",
        "    data: an optional data frame (or similar: see \u2018model.frame\u2019)\n",
        "          containing the variables in the formula \u2018formula\u2019.  By\n",
        "          default the variables are taken from \u2018environment(formula)\u2019.\n",
        "\n",
        "  subset: an optional vector used to select rows (observations) of the\n",
        "          data matrix \u2018x\u2019.\n",
        "\n",
        "na.action: a function which indicates what should happen when the data\n",
        "          contain \u2018NA\u2019s.  The default is set by the \u2018na.action\u2019 setting\n",
        "          of \u2018options\u2019, and is \u2018na.fail\u2019 if that is unset. The\n",
        "          \u2018factory-fresh\u2019 default is \u2018na.omit\u2019.\n",
        "\n",
        "       x: a numeric matrix or data frame which provides the data for\n",
        "          the principal components analysis.\n",
        "\n",
        "     cor: a logical value indicating whether the calculation should use\n",
        "          the correlation matrix or the covariance matrix.  (The\n",
        "          correlation matrix can only be used if there are no constant\n",
        "          variables.)\n",
        "\n",
        "  scores: a logical value indicating whether the score on each\n",
        "          principal component should be calculated.\n",
        "\n",
        "  covmat: a covariance matrix, or a covariance list as returned by\n",
        "          \u2018cov.wt\u2019 (and \u2018cov.mve\u2019 or \u2018cov.mcd\u2019 from package \u2018MASS\u2019).\n",
        "          If supplied, this is used rather than the covariance matrix\n",
        "          of \u2018x\u2019.\n",
        "\n",
        "     ...: arguments passed to or from other methods. If \u2018x\u2019 is a\n",
        "          formula one might specify \u2018cor\u2019 or \u2018scores\u2019.\n",
        "\n",
        "  object: Object of class inheriting from \u2018\"princomp\"\u2019\n",
        "\n",
        " newdata: An optional data frame or matrix in which to look for\n",
        "          variables with which to predict.  If omitted, the scores are\n",
        "          used.  If the original fit used a formula or a data frame or\n",
        "          a matrix with column names, \u2018newdata\u2019 must contain columns\n",
        "          with the same names. Otherwise it must contain the same\n",
        "          number of columns, to be used in the same order.\n",
        "\n",
        "_\bD_\be_\bt_\ba_\bi_\bl_\bs:\n",
        "\n",
        "     \u2018princomp\u2019 is a generic function with \u2018\"formula\"\u2019 and \u2018\"default\"\u2019\n",
        "     methods.\n",
        "\n",
        "     The calculation is done using \u2018eigen\u2019 on the correlation or\n",
        "     covariance matrix, as determined by \u2018cor\u2019.  This is done for\n",
        "     compatibility with the S-PLUS result.  A preferred method of\n",
        "     calculation is to use \u2018svd\u2019 on \u2018x\u2019, as is done in \u2018prcomp\u2019.\n",
        "\n",
        "     Note that the default calculation uses divisor \u2018N\u2019 for the\n",
        "     covariance matrix.\n",
        "\n",
        "     The \u2018print\u2019 method for these objects prints the results in a nice\n",
        "     format and the \u2018plot\u2019 method produces a scree plot (\u2018screeplot\u2019).\n",
        "     There is also a \u2018biplot\u2019 method.\n",
        "\n",
        "     If \u2018x\u2019 is a formula then the standard NA-handling is applied to\n",
        "     the scores (if requested): see \u2018napredict\u2019.\n",
        "\n",
        "     \u2018princomp\u2019 only handles so-called R-mode PCA, that is feature\n",
        "     extraction of variables.  If a data matrix is supplied (possibly\n",
        "     via a formula) it is required that there are at least as many\n",
        "     units as variables.  For Q-mode PCA use \u2018prcomp\u2019.\n",
        "\n",
        "_\bV_\ba_\bl_\bu_\be:\n",
        "\n",
        "     \u2018princomp\u2019 returns a list with class \u2018\"princomp\"\u2019 containing the\n",
        "     following components:\n",
        "\n",
        "    sdev: the standard deviations of the principal components.\n",
        "\n",
        "loadings: the matrix of variable loadings (i.e., a matrix whose columns\n",
        "          contain the eigenvectors).  This is of class \u2018\"loadings\"\u2019:\n",
        "          see \u2018loadings\u2019 for its \u2018print\u2019 method.\n",
        "\n",
        "  center: the means that were subtracted.\n",
        "\n",
        "   scale: the scalings applied to each variable.\n",
        "\n",
        "   n.obs: the number of observations.\n",
        "\n",
        "  scores: if \u2018scores = TRUE\u2019, the scores of the supplied data on the\n",
        "          principal components.  These are non-null only if \u2018x\u2019 was\n",
        "          supplied, and if \u2018covmat\u2019 was also supplied if it was a\n",
        "          covariance list.  For the formula method, \u2018napredict()\u2019 is\n",
        "          applied to handle the treatment of values omitted by the\n",
        "          \u2018na.action\u2019.\n",
        "\n",
        "    call: the matched call.\n",
        "\n",
        "na.action: If relevant.\n",
        "\n",
        "_\bN_\bo_\bt_\be:\n",
        "\n",
        "     The signs of the columns of the loadings and scores are arbitrary,\n",
        "     and so may differ between different programs for PCA, and even\n",
        "     between different builds of R.\n",
        "\n",
        "_\bR_\be_\bf_\be_\br_\be_\bn_\bc_\be_\bs:\n",
        "\n",
        "     Mardia, K. V., J. T. Kent and J. M. Bibby (1979).  _Multivariate\n",
        "     Analysis_, London: Academic Press.\n",
        "\n",
        "     Venables, W. N. and B. D. Ripley (2002).  _Modern Applied\n",
        "     Statistics with S_, Springer-Verlag.\n",
        "\n",
        "_\bS_\be_\be _\bA_\bl_\bs_\bo:\n",
        "\n",
        "     \u2018summary.princomp\u2019, \u2018screeplot\u2019, \u2018biplot.princomp\u2019, \u2018prcomp\u2019,\n",
        "     \u2018cor\u2019, \u2018cov\u2019, \u2018eigen\u2019.\n",
        "\n",
        "_\bE_\bx_\ba_\bm_\bp_\bl_\be_\bs:\n",
        "\n",
        "     require(graphics)\n",
        "     \n",
        "     ## The variances of the variables in the\n",
        "     ## USArrests data vary by orders of magnitude, so scaling is appropriate\n",
        "     (pc.cr <- princomp(USArrests))  # inappropriate\n",
        "     princomp(USArrests, cor = TRUE) # =^= prcomp(USArrests, scale=TRUE)\n",
        "     ## Similar, but different:\n",
        "     ## The standard deviations differ by a factor of sqrt(49/50)\n",
        "     \n",
        "     summary(pc.cr <- princomp(USArrests, cor = TRUE))\n",
        "     loadings(pc.cr)  # note that blank entries are small but not zero\n",
        "     ## The signs of the columns are arbitrary\n",
        "     plot(pc.cr) # shows a screeplot.\n",
        "     biplot(pc.cr)\n",
        "     \n",
        "     ## Formula interface\n",
        "     princomp(~ ., data = USArrests, cor = TRUE)\n",
        "     \n",
        "     ## NA-handling\n",
        "     USArrests[1, 2] <- NA\n",
        "     pc.cr <- princomp(~ Murder + Assault + UrbanPop,\n",
        "                       data = USArrests, na.action = na.exclude, cor = TRUE)\n",
        "     pc.cr$scores[1:5, ]\n",
        "     \n",
        "     ## (Simple) Robust PCA:\n",
        "     ## Classical:\n",
        "     (pc.cl  <- princomp(stackloss))\n",
        "     ## Robust:\n",
        "     (pc.rob <- princomp(stackloss, covmat = MASS::cov.rob(stackloss)))\n",
        "     \n",
        "\n",
        "\n"
       ]
      }
     ],
     "prompt_number": 17
    },
    {
     "cell_type": "code",
     "collapsed": false,
     "input": [
      "print r(\"princomp(rdata)\")"
     ],
     "language": "python",
     "metadata": {},
     "outputs": [
      {
       "output_type": "stream",
       "stream": "stdout",
       "text": [
        "try({princomp(rdata)})\n",
        "Call:\n",
        "princomp(x = rdata)\n",
        "\n",
        "Standard deviations:\n",
        "   Comp.1    Comp.2    Comp.3    Comp.4    Comp.5 \n",
        "2.1915294 0.5004056 0.3086400 0.1909004 0.1434834 \n",
        "\n",
        " 5  variables and  150 observations.\n",
        "\n"
       ]
      }
     ],
     "prompt_number": 6
    },
    {
     "cell_type": "code",
     "collapsed": false,
     "input": [
      "r(\"p <- princomp(rdata)\")"
     ],
     "language": "python",
     "metadata": {},
     "outputs": [
      {
       "metadata": {},
       "output_type": "pyout",
       "prompt_number": 6,
       "text": [
        "'try({p <- princomp(rdata)})\\n'"
       ]
      }
     ],
     "prompt_number": 6
    },
    {
     "cell_type": "code",
     "collapsed": false,
     "input": [
      "print r(\"names(p)\")"
     ],
     "language": "python",
     "metadata": {},
     "outputs": [
      {
       "output_type": "stream",
       "stream": "stdout",
       "text": [
        "try({names(p)})\n",
        "[1] \"sdev\"     \"loadings\" \"center\"   \"scale\"    \"n.obs\"    \"scores\"   \"call\"    \n",
        "\n"
       ]
      }
     ],
     "prompt_number": 7
    },
    {
     "cell_type": "code",
     "collapsed": false,
     "input": [
      "print r(\"head(p$scores)\")"
     ],
     "language": "python",
     "metadata": {},
     "outputs": [
      {
       "output_type": "stream",
       "stream": "stdout",
       "text": [
        "try({head(p$scores)})\n",
        "     Comp.1     Comp.2       Comp.3       Comp.4        Comp.5\n",
        "0 -2.865507  0.3027804 -0.048489721  0.076764424  0.0324862994\n",
        "1 -2.893213 -0.1769871  0.168798182  0.140958967 -0.0553796651\n",
        "2 -3.055749 -0.1680063 -0.056542415  0.043325209  0.0011070839\n",
        "3 -2.921249 -0.3250272 -0.009800108 -0.067412716  0.0540828171\n",
        "4 -2.906751  0.3023327 -0.153720302  0.003524838  0.0756274784\n",
        "5 -2.489000  0.7397272 -0.200679240 -0.075155520 -0.0003593948\n",
        "\n"
       ]
      }
     ],
     "prompt_number": 9
    },
    {
     "cell_type": "code",
     "collapsed": false,
     "input": [
      "pydata = pd.DataFrame(r.get('p$scores'),columns=['Comp.1', 'Comp.2', 'Comp.3','Comp.4','Comp.5'])"
     ],
     "language": "python",
     "metadata": {},
     "outputs": [],
     "prompt_number": 8
    },
    {
     "cell_type": "code",
     "collapsed": false,
     "input": [
      "print pydata.head()"
     ],
     "language": "python",
     "metadata": {},
     "outputs": [
      {
       "output_type": "stream",
       "stream": "stdout",
       "text": [
        "     Comp.1    Comp.2    Comp.3    Comp.4    Comp.5\n",
        "0 -2.865507  0.302780 -0.048490  0.076764  0.032486\n",
        "1 -2.893213 -0.176987  0.168798  0.140959 -0.055380\n",
        "2 -3.055749 -0.168006 -0.056542  0.043325  0.001107\n",
        "3 -2.921249 -0.325027 -0.009800 -0.067413  0.054083\n",
        "4 -2.906751  0.302333 -0.153720  0.003525  0.075627\n"
       ]
      }
     ],
     "prompt_number": 9
    },
    {
     "cell_type": "code",
     "collapsed": false,
     "input": [
      "fig = plt.scatter(pydata['Comp.1'], pydata['Comp.2'])\n",
      "plt.xlabel('Princ Component 1')\n",
      "plt.ylabel('Princ Component 2')\n",
      "plt.suptitle('Iris, First Two Principal Components')"
     ],
     "language": "python",
     "metadata": {},
     "outputs": [
      {
       "metadata": {},
       "output_type": "pyout",
       "prompt_number": 10,
       "text": [
        "<matplotlib.text.Text at 0x112501210>"
       ]
      },
      {
       "metadata": {},
       "output_type": "display_data",
       "png": "[encoded data removed]",
       "text": [
        "<matplotlib.figure.Figure at 0x1125012d0>"
       ]
      }
     ],
     "prompt_number": 10
    },
    {
     "cell_type": "code",
     "collapsed": false,
     "input": [
      "#print iris.loc[0:3, 'Species']\n",
      "#print pydata.loc[:,0]\n",
      "colors = ['blue', 'green', 'yellow']\n",
      "for i in xrange(len(colors)):\n",
      "    px = pydata.loc[:,'Comp.1'][iris['Species'] == i]\n",
      "    py = pydata.loc[:, 'Comp.2'][iris['Species'] == i]\n",
      "    plt.scatter(px, py, c=colors[i])"
     ],
     "language": "python",
     "metadata": {},
     "outputs": [
      {
       "metadata": {},
       "output_type": "display_data",
       "png": "[encoded data removed]",
       "text": [
        "<matplotlib.figure.Figure at 0x112769190>"
       ]
      }
     ],
     "prompt_number": 31
    },
    {
     "cell_type": "code",
     "collapsed": false,
     "input": [
      "#Given that we can easily separate each of the species with a line, the first two components\n",
      "#do an excellent job of differentiating the three species."
     ],
     "language": "python",
     "metadata": {},
     "outputs": []
    }
   ],
   "metadata": {}
  }
 ]
}