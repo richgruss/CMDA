{
 "metadata": {
  "name": "",
  "signature": "sha256:020dfd34c26043124ec71e340d800263fc92b0936488726327ed268082650113"
 },
 "nbformat": 3,
 "nbformat_minor": 0,
 "worksheets": [
  {
   "cells": [
    {
     "cell_type": "code",
     "collapsed": false,
     "input": [
      "import pandas as pd\n",
      "import numpy as np\n",
      "from sklearn.cross_validation import train_test_split\n",
      "from sklearn.preprocessing import StandardScaler\n",
      "from sklearn.linear_model import SGDClassifier\n",
      "\n",
      "medical_data = pd.read_csv('Medical.csv')"
     ],
     "language": "python",
     "metadata": {},
     "outputs": [],
     "prompt_number": 25
    },
    {
     "cell_type": "code",
     "collapsed": false,
     "input": [
      "medical_data_subset =  medical_data.loc[:,['Age','HgA1C']]\n",
      "print medical_data_subset"
     ],
     "language": "python",
     "metadata": {},
     "outputs": [
      {
       "output_type": "stream",
       "stream": "stdout",
       "text": [
        "    Age  HgA1C\n",
        "0    28    8.2\n",
        "1    31    6.0\n",
        "2    34    6.3\n",
        "3    35    5.8\n",
        "4    36    6.7\n",
        "5    39   11.0\n",
        "6    41    6.1\n",
        "7    42   13.1\n",
        "8    42   10.5\n",
        "9    44    5.6\n",
        "10   44    6.8\n",
        "11   44    5.9\n",
        "12   45    6.8\n",
        "13   45    9.2\n",
        "14   45    9.2\n",
        "15   46    6.9\n",
        "16   47    6.3\n",
        "17   47    6.6\n",
        "18   48    7.8\n",
        "19   50   13.5\n",
        "20   50    5.2\n",
        "21   51    7.7\n",
        "22   51    9.4\n",
        "23   52    5.9\n",
        "24   53    5.8\n",
        "25   54    6.4\n",
        "26   55    8.6\n",
        "27   55   11.9\n",
        "28   55    8.7\n",
        "29   56    5.8\n",
        "30   57    7.3\n",
        "31   57    5.7\n",
        "32   58    7.3\n",
        "33   60    8.7\n",
        "34   60    6.0\n",
        "35   61    6.1\n",
        "36   62    5.8\n",
        "37   64    7.2\n",
        "38   64    6.3\n",
        "39   66    6.9\n",
        "40   66    7.1\n",
        "41   66   11.3\n",
        "42   67    7.3\n",
        "43   68    5.4\n",
        "44   71    8.7\n",
        "45   72    9.3\n",
        "46   74    6.9\n",
        "47   76    6.6\n",
        "48   80    6.3\n",
        "49   83    6.9\n"
       ]
      }
     ],
     "prompt_number": 8
    },
    {
     "cell_type": "code",
     "collapsed": false,
     "input": [
      "y = np.array(medical_data['A Literacy Category'])"
     ],
     "language": "python",
     "metadata": {},
     "outputs": [],
     "prompt_number": 19
    },
    {
     "cell_type": "code",
     "collapsed": false,
     "input": [
      "X = np.array(medical_data.as_matrix(columns=['Age','HgA1C']))"
     ],
     "language": "python",
     "metadata": {},
     "outputs": [
      {
       "output_type": "stream",
       "stream": "stdout",
       "text": [
        "[[ 28.    8.2]\n",
        " [ 31.    6. ]\n",
        " [ 34.    6.3]\n",
        " [ 35.    5.8]\n",
        " [ 36.    6.7]\n",
        " [ 39.   11. ]\n",
        " [ 41.    6.1]\n",
        " [ 42.   13.1]\n",
        " [ 42.   10.5]\n",
        " [ 44.    5.6]\n",
        " [ 44.    6.8]\n",
        " [ 44.    5.9]\n",
        " [ 45.    6.8]\n",
        " [ 45.    9.2]\n",
        " [ 45.    9.2]\n",
        " [ 46.    6.9]\n",
        " [ 47.    6.3]\n",
        " [ 47.    6.6]\n",
        " [ 48.    7.8]\n",
        " [ 50.   13.5]\n",
        " [ 50.    5.2]\n",
        " [ 51.    7.7]\n",
        " [ 51.    9.4]\n",
        " [ 52.    5.9]\n",
        " [ 53.    5.8]\n",
        " [ 54.    6.4]\n",
        " [ 55.    8.6]\n",
        " [ 55.   11.9]\n",
        " [ 55.    8.7]\n",
        " [ 56.    5.8]\n",
        " [ 57.    7.3]\n",
        " [ 57.    5.7]\n",
        " [ 58.    7.3]\n",
        " [ 60.    8.7]\n",
        " [ 60.    6. ]\n",
        " [ 61.    6.1]\n",
        " [ 62.    5.8]\n",
        " [ 64.    7.2]\n",
        " [ 64.    6.3]\n",
        " [ 66.    6.9]\n",
        " [ 66.    7.1]\n",
        " [ 66.   11.3]\n",
        " [ 67.    7.3]\n",
        " [ 68.    5.4]\n",
        " [ 71.    8.7]\n",
        " [ 72.    9.3]\n",
        " [ 74.    6.9]\n",
        " [ 76.    6.6]\n",
        " [ 80.    6.3]\n",
        " [ 83.    6.9]]\n"
       ]
      }
     ],
     "prompt_number": 20
    },
    {
     "cell_type": "code",
     "collapsed": false,
     "input": [
      "X_train, X_test, y_train, y_test = train_test_split(X,y,test_size=.25,random_state=33)"
     ],
     "language": "python",
     "metadata": {},
     "outputs": [],
     "prompt_number": 36
    },
    {
     "cell_type": "code",
     "collapsed": false,
     "input": [
      "scaler = StandardScaler().fit(X_train)\n",
      "X_train = scaler.transform(X_train)\n",
      "X_test = scaler.transform(X_test)\n"
     ],
     "language": "python",
     "metadata": {},
     "outputs": [],
     "prompt_number": 37
    },
    {
     "cell_type": "code",
     "collapsed": false,
     "input": [
      "print y_test"
     ],
     "language": "python",
     "metadata": {},
     "outputs": [
      {
       "output_type": "stream",
       "stream": "stdout",
       "text": [
        "['HIGH' 'HIGH' 'HIGH' 'HIGH' 'HIGH' 'HIGH' 'HIGH' 'HIGH' 'HIGH' 'HIGH'\n",
        " 'HIGH' 'HIGH' 'HIGH']\n"
       ]
      }
     ],
     "prompt_number": 49
    },
    {
     "cell_type": "code",
     "collapsed": false,
     "input": [],
     "language": "python",
     "metadata": {},
     "outputs": [
      {
       "output_type": "stream",
       "stream": "stdout",
       "text": [
        "[[ 0.89441369 -0.26487636]\n",
        " [-1.84380317 -0.71261152]\n",
        " [ 1.52029184 -0.26487636]\n",
        " [ 0.03383125  0.58084562]\n",
        " [-0.27910782  0.13311045]\n",
        " [ 0.19030079 -0.06588295]\n",
        " [ 1.98970044 -0.56336647]\n",
        " [-0.20087305 -0.76235988]\n",
        " [ 1.05088323 -1.01110163]\n",
        " [ 1.28558753  0.63059397]\n",
        " [ 0.89441369  1.92405111]\n",
        " [-0.98322073  1.5260643 ]\n",
        " [ 1.67676137 -0.41412141]\n",
        " [ 2.22440474 -0.26487636]\n",
        " [ 0.58147462 -0.81210823]\n",
        " [ 0.97264846 -0.06588295]\n",
        " [-1.0614555  -0.66286317]\n",
        " [-0.82675119 -0.31462471]\n",
        " [ 0.26853555 -0.06588295]\n",
        " [-0.59204689 -0.56336647]\n",
        " [-0.27910782  0.97883243]\n",
        " [-0.82675119 -0.76235988]\n",
        " [-0.74851643 -0.31462471]\n",
        " [ 0.19030079 -0.86185658]\n",
        " [-0.74851643  0.87933573]\n",
        " [ 0.42500509  0.63059397]\n",
        " [ 0.50323986 -0.66286317]\n",
        " [-0.74851643  0.87933573]\n",
        " [-0.35734259  3.01851485]\n",
        " [ 0.73794416 -0.56336647]\n",
        " [-1.5308641  -0.81210823]\n",
        " [-0.82675119 -0.91160493]\n",
        " [-0.51381212  0.18285881]\n",
        " [-1.60909887 -0.56336647]\n",
        " [-0.12263828 -0.81210823]\n",
        " [-0.98322073  2.81952144]\n",
        " [-0.35734259 -1.11059834]]\n"
       ]
      }
     ],
     "prompt_number": 24
    },
    {
     "cell_type": "code",
     "collapsed": false,
     "input": [
      "clf = SGDClassifier()\n",
      "clf.fit(X_train, y_train)"
     ],
     "language": "python",
     "metadata": {},
     "outputs": [
      {
       "metadata": {},
       "output_type": "pyout",
       "prompt_number": 38,
       "text": [
        "SGDClassifier(alpha=0.0001, class_weight=None, epsilon=0.1, eta0=0.0,\n",
        "       fit_intercept=True, l1_ratio=0.15, learning_rate='optimal',\n",
        "       loss='hinge', n_iter=5, n_jobs=1, penalty='l2', power_t=0.5,\n",
        "       random_state=None, shuffle=False, verbose=0, warm_start=False)"
       ]
      }
     ],
     "prompt_number": 38
    },
    {
     "cell_type": "code",
     "collapsed": false,
     "input": [
      "print clf.coef_"
     ],
     "language": "python",
     "metadata": {},
     "outputs": [
      {
       "output_type": "stream",
       "stream": "stdout",
       "text": [
        "[[  5.08968882 -16.81823155]]\n"
       ]
      }
     ],
     "prompt_number": 50
    },
    {
     "cell_type": "code",
     "collapsed": false,
     "input": [
      "print clf.intercept_"
     ],
     "language": "python",
     "metadata": {},
     "outputs": [
      {
       "output_type": "stream",
       "stream": "stdout",
       "text": [
        "[-27.64585708]\n"
       ]
      }
     ],
     "prompt_number": 51
    },
    {
     "cell_type": "code",
     "collapsed": false,
     "input": [
      "#Classifer equation: -27.64585708 + 5.08968882 x1 + -16.81823155 x2"
     ],
     "language": "python",
     "metadata": {},
     "outputs": [],
     "prompt_number": 52
    },
    {
     "cell_type": "code",
     "collapsed": false,
     "input": [
      "from sklearn import metrics\n",
      "y_pred = clf.predict(X_train)\n",
      "print metrics.accuracy_score(y_train, y_pred)"
     ],
     "language": "python",
     "metadata": {},
     "outputs": [
      {
       "output_type": "stream",
       "stream": "stdout",
       "text": [
        "0.891891891892\n"
       ]
      }
     ],
     "prompt_number": 53
    },
    {
     "cell_type": "code",
     "collapsed": false,
     "input": [
      "# 89% accuracy on the training data"
     ],
     "language": "python",
     "metadata": {},
     "outputs": [],
     "prompt_number": 54
    },
    {
     "cell_type": "code",
     "collapsed": false,
     "input": [
      "y_pred = clf.predict(X_test)\n",
      "print metrics.accuracy_score(y_test, y_pred)"
     ],
     "language": "python",
     "metadata": {},
     "outputs": [
      {
       "output_type": "stream",
       "stream": "stdout",
       "text": [
        "1.0\n"
       ]
      }
     ],
     "prompt_number": 55
    },
    {
     "cell_type": "code",
     "collapsed": false,
     "input": [
      "# 100% accuracy on the test data"
     ],
     "language": "python",
     "metadata": {},
     "outputs": [],
     "prompt_number": 35
    },
    {
     "cell_type": "code",
     "collapsed": false,
     "input": [
      "print metrics.confusion_matrix(y_test,y_pred)"
     ],
     "language": "python",
     "metadata": {},
     "outputs": [
      {
       "output_type": "stream",
       "stream": "stdout",
       "text": [
        "[[13]]\n"
       ]
      },
      {
       "output_type": "stream",
       "stream": "stderr",
       "text": [
        "/Library/Python/2.7/site-packages/numpy-1.9.0-py2.7-macosx-10.9-intel.egg/numpy/core/fromnumeric.py:2499: VisibleDeprecationWarning: `rank` is deprecated; use the `ndim` attribute or function instead. To find the rank of a matrix see `numpy.linalg.matrix_rank`.\n",
        "  VisibleDeprecationWarning)\n"
       ]
      }
     ],
     "prompt_number": 45
    },
    {
     "cell_type": "code",
     "collapsed": false,
     "input": [
      "print y_train\n",
      "#This classifer has too easy of a job to do.  Every one of the y_test values was 'HIGH' and ALMOST all of the \n",
      "#training values were 'HIGH'.  If it simply said 'HIGH' every time it would be right"
     ],
     "language": "python",
     "metadata": {},
     "outputs": [
      {
       "output_type": "stream",
       "stream": "stdout",
       "text": [
        "['HIGH' 'HIGH' 'HIGH' 'HIGH' 'HIGH' 'HIGH' 'HIGH' 'HIGH' 'LOW' 'HIGH'\n",
        " 'HIGH' 'LOW' 'HIGH' 'HIGH' 'HIGH' 'HIGH' 'HIGH' 'HIGH' 'HIGH' 'HIGH'\n",
        " 'HIGH' 'HIGH' 'HIGH' 'HIGH' 'HIGH' 'LOW' 'HIGH' 'HIGH' 'LOW' 'HIGH' 'HIGH'\n",
        " 'HIGH' 'HIGH' 'HIGH' 'HIGH' 'HIGH' 'HIGH']\n"
       ]
      }
     ],
     "prompt_number": 57
    },
    {
     "cell_type": "code",
     "collapsed": false,
     "input": [],
     "language": "python",
     "metadata": {},
     "outputs": []
    }
   ],
   "metadata": {}
  }
 ]
}