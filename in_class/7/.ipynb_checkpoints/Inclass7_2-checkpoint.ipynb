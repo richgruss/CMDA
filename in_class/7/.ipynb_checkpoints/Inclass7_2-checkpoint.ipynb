{
 "metadata": {
  "name": "",
  "signature": "sha256:2c91d7c4e78f2c0f6fa601df60e319e779df8ffe0eccc6b60ca3f6ac7db2a2d8"
 },
 "nbformat": 3,
 "nbformat_minor": 0,
 "worksheets": [
  {
   "cells": [
    {
     "cell_type": "code",
     "collapsed": false,
     "input": [
      "import pandas as pd\n",
      "\n",
      "work_comma = pd.read_csv('work_comma.csv')"
     ],
     "language": "python",
     "metadata": {},
     "outputs": []
    }
   ],
   "metadata": {}
  }
 ]
}