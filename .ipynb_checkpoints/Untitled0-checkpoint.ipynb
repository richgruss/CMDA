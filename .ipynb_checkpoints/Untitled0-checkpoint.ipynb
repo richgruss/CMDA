{
 "metadata": {
  "name": "",
  "signature": "sha256:3ffaf4db970a7b0cee7e388d5e2323aa4ff06ab3f7c33ec5d4225538cd0fbd92"
 },
 "nbformat": 3,
 "nbformat_minor": 0,
 "worksheets": [
  {
   "cells": [
    {
     "cell_type": "code",
     "collapsed": false,
     "input": [],
     "language": "python",
     "metadata": {},
     "outputs": []
    }
   ],
   "metadata": {}
  }
 ]
}